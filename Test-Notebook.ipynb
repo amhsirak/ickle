{
 "cells": [
  {
   "cell_type": "code",
   "execution_count": 1,
   "id": "3b938485",
   "metadata": {},
   "outputs": [
    {
     "data": {
      "text/plain": [
       "'C:\\\\Users\\\\Karishma\\\\anaconda3\\\\envs\\\\ickle\\\\python.exe'"
      ]
     },
     "execution_count": 1,
     "metadata": {},
     "output_type": "execute_result"
    }
   ],
   "source": [
    "import sys\n",
    "sys.executable"
   ]
  },
  {
   "cell_type": "code",
   "execution_count": 3,
   "id": "b0df5039",
   "metadata": {},
   "outputs": [],
   "source": [
    "import numpy as np\n",
    "import ickle as ick"
   ]
  },
  {
   "cell_type": "code",
   "execution_count": 10,
   "id": "6c0f7f1f",
   "metadata": {},
   "outputs": [
    {
     "name": "stdout",
     "output_type": "stream",
     "text": [
      "<ickle.DataFrame object at 0x00000186E2C22AC0>\n"
     ]
    }
   ],
   "source": [
    "name = np.array(['John', 'Sam', 'Tina'])\n",
    "place = np.array(['Kolkata', 'Mumbai', 'Delhi'])\n",
    "# hehe = np.array([[1, 2, 3], [4, 5, 6]])\n",
    "\n",
    "data = {'name': name, 'place': place}\n",
    "\n",
    "df = ick.DataFrame(data)\n",
    "print(df)"
   ]
  },
  {
   "cell_type": "code",
   "execution_count": null,
   "id": "fa2a5d2d",
   "metadata": {},
   "outputs": [],
   "source": []
  }
 ],
 "metadata": {
  "kernelspec": {
   "display_name": "Python 3 (ipykernel)",
   "language": "python",
   "name": "python3"
  },
  "language_info": {
   "codemirror_mode": {
    "name": "ipython",
    "version": 3
   },
   "file_extension": ".py",
   "mimetype": "text/x-python",
   "name": "python",
   "nbconvert_exporter": "python",
   "pygments_lexer": "ipython3",
   "version": "3.9.7"
  }
 },
 "nbformat": 4,
 "nbformat_minor": 5
}
