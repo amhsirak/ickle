{
 "cells": [
  {
   "cell_type": "code",
   "execution_count": 277,
   "id": "3b938485",
   "metadata": {},
   "outputs": [
    {
     "data": {
      "text/plain": [
       "'c:\\\\users\\\\karishma\\\\appdata\\\\local\\\\programs\\\\python\\\\python39\\\\python.exe'"
      ]
     },
     "execution_count": 277,
     "metadata": {},
     "output_type": "execute_result"
    }
   ],
   "source": [
    "import sys\n",
    "sys.executable"
   ]
  },
  {
   "cell_type": "markdown",
   "id": "laden-spanish",
   "metadata": {},
   "source": [
    "# Ickle\n",
    "*Data Analysis Library for Python*\n",
    "<hr />\n",
    "\n",
    "This Jupyter Notebook serves as the documentation for Ickle.\n",
    "\n",
    "You can contribute to Ickle here: https://github.com/karishmashuklaa/ickle "
   ]
  },
  {
   "cell_type": "markdown",
   "id": "elect-track",
   "metadata": {},
   "source": [
    "## Table Of Contents\n",
    "1. [Getting Started](#Getting-Started)\n",
    "2. [DataFrame and Visual Representation](#DataFrame-and-Visual-Representation)\n",
    "3. [Basic Properties](#Basic-Properties)\n",
    "4. [Selection of Subsets](#Selection-of-Subsets)\n",
    "5. [Basic and Aggregation Methods](#Basic-And-Aggregation-Methods)\n",
    "6. [Non-Aggregation Methods](#Non-Aggregation-Methods)\n",
    "7. [Other Methods](#Other-Methods)\n",
    "8. [Arithmetic and Comparison Operators](#Arithmetic-And-Comparison-Operators)\n",
    "9. [String-Only Methods](#String-Only-Methods)\n",
    "10. [Pivot Table](#Pivot-Table)\n",
    "11. [Read CSV](#Read-CSV)"
   ]
  },
  {
   "cell_type": "markdown",
   "id": "satellite-schema",
   "metadata": {},
   "source": [
    "## Getting Started"
   ]
  },
  {
   "cell_type": "markdown",
   "id": "advisory-scientist",
   "metadata": {},
   "source": [
    "### Installation\n",
    "\n",
    "Ickle can be installed via pip.\n",
    "\n",
    "`pip install ickle`"
   ]
  },
  {
   "cell_type": "markdown",
   "id": "declared-royal",
   "metadata": {},
   "source": [
    "### Import\n",
    "\n",
    "`import ickle as ick`"
   ]
  },
  {
   "cell_type": "markdown",
   "id": "historic-provincial",
   "metadata": {},
   "source": [
    "## DataFrame and Visual Representation"
   ]
  },
  {
   "cell_type": "markdown",
   "id": "6043688e",
   "metadata": {},
   "source": [
    "### DataFrame\n",
    "A `DataFrame` holds two dimensional heterogenous data. It accepts dictionary as input, with Numpy arrays as values and strings as column names.\n",
    "\n",
    "Parameters:\n",
    "- `data`: A dictionary of strings mapped to Numpy arrays. The key will become the column name."
   ]
  },
  {
   "cell_type": "code",
   "execution_count": 278,
   "id": "b0df5039",
   "metadata": {},
   "outputs": [],
   "source": [
    "import numpy as np\n",
    "import ickle as ick"
   ]
  },
  {
   "cell_type": "code",
   "execution_count": 279,
   "id": "6c0f7f1f",
   "metadata": {},
   "outputs": [],
   "source": [
    "name = np.array(['John', 'Sam', 'Tina', 'Josh', 'Jack', 'Jill'])\n",
    "place = np.array(['Kolkata', 'Mumbai', 'Delhi', 'Mumbai', 'Mumbai', 'Mumbai'])\n",
    "weight = np.array([57, 70, 54, 59, 62, 70])\n",
    "married = np.array([True, False, True, False, False, False])\n",
    "\n",
    "data = {'name': name, 'place': place, 'weight': weight, 'married': married}\n",
    "df = ick.DataFrame(data)"
   ]
  },
  {
   "cell_type": "markdown",
   "id": "9ab1033f",
   "metadata": {},
   "source": [
    "### Visual Representation"
   ]
  },
  {
   "cell_type": "markdown",
   "id": "5fdae139",
   "metadata": {},
   "source": [
    "`DataFrame` can be displayed in the following manner"
   ]
  },
  {
   "cell_type": "code",
   "execution_count": 280,
   "id": "90b4e248",
   "metadata": {},
   "outputs": [
    {
     "data": {
      "text/html": [
       "<table><thead><tr><th></th><th>name      </th><th>place     </th><th>weight    </th><th>married   </th></tr></thead><tbody><tr><td><strong>0</strong></td><td>John      </td><td>Kolkata   </td><td>        57</td><td>True</td></tr><tr><td><strong>1</strong></td><td>Sam       </td><td>Mumbai    </td><td>        70</td><td>False</td></tr><tr><td><strong>2</strong></td><td>Tina      </td><td>Delhi     </td><td>        54</td><td>True</td></tr><tr><td><strong>3</strong></td><td>Josh      </td><td>Mumbai    </td><td>        59</td><td>False</td></tr><tr><td><strong>4</strong></td><td>Jack      </td><td>Mumbai    </td><td>        62</td><td>False</td></tr><tr><td><strong>5</strong></td><td>Jill      </td><td>Mumbai    </td><td>        70</td><td>False</td></tr></tbody></table>"
      ],
      "text/plain": [
       "<ickle.DataFrame at 0x1dc311e1190>"
      ]
     },
     "execution_count": 280,
     "metadata": {},
     "output_type": "execute_result"
    }
   ],
   "source": [
    "df"
   ]
  },
  {
   "cell_type": "markdown",
   "id": "prescription-syndicate",
   "metadata": {},
   "source": [
    "We will use the above `DataFrame` throughout the notebook"
   ]
  },
  {
   "cell_type": "markdown",
   "id": "d75257e4",
   "metadata": {},
   "source": [
    "## Basic Properties\n",
    "1. [len](#len)\n",
    "2. [columns](#columns)\n",
    "3. [shape](#shape)\n",
    "4. [values](#values)\n",
    "5. [dtypes](#dtypes)\n"
   ]
  },
  {
   "cell_type": "markdown",
   "id": "e2f62efd",
   "metadata": {},
   "source": [
    "### `len`\n",
    "returns: the number of rows in the `DataFrame`"
   ]
  },
  {
   "cell_type": "code",
   "execution_count": 281,
   "id": "926a015f",
   "metadata": {},
   "outputs": [
    {
     "data": {
      "text/plain": [
       "6"
      ]
     },
     "execution_count": 281,
     "metadata": {},
     "output_type": "execute_result"
    }
   ],
   "source": [
    "len(df)"
   ]
  },
  {
   "cell_type": "markdown",
   "id": "8889ccc9",
   "metadata": {},
   "source": [
    "### `columns`\n",
    "returns: list of column names"
   ]
  },
  {
   "cell_type": "code",
   "execution_count": 282,
   "id": "1b833cb8",
   "metadata": {},
   "outputs": [
    {
     "data": {
      "text/plain": [
       "['name', 'place', 'weight', 'married']"
      ]
     },
     "execution_count": 282,
     "metadata": {},
     "output_type": "execute_result"
    }
   ],
   "source": [
    "df.columns"
   ]
  },
  {
   "cell_type": "markdown",
   "id": "deac7b62",
   "metadata": {},
   "source": [
    "### Modify exisiting column names"
   ]
  },
  {
   "cell_type": "code",
   "execution_count": 283,
   "id": "2331a1dd",
   "metadata": {},
   "outputs": [
    {
     "data": {
      "text/html": [
       "<table><thead><tr><th></th><th>NAME      </th><th>PLACE     </th><th>WEIGHT    </th><th>MARRIED   </th></tr></thead><tbody><tr><td><strong>0</strong></td><td>John      </td><td>Kolkata   </td><td>        57</td><td>True</td></tr><tr><td><strong>1</strong></td><td>Sam       </td><td>Mumbai    </td><td>        70</td><td>False</td></tr><tr><td><strong>2</strong></td><td>Tina      </td><td>Delhi     </td><td>        54</td><td>True</td></tr><tr><td><strong>3</strong></td><td>Josh      </td><td>Mumbai    </td><td>        59</td><td>False</td></tr><tr><td><strong>4</strong></td><td>Jack      </td><td>Mumbai    </td><td>        62</td><td>False</td></tr><tr><td><strong>5</strong></td><td>Jill      </td><td>Mumbai    </td><td>        70</td><td>False</td></tr></tbody></table>"
      ],
      "text/plain": [
       "<ickle.DataFrame at 0x1dc311e1190>"
      ]
     },
     "execution_count": 283,
     "metadata": {},
     "output_type": "execute_result"
    }
   ],
   "source": [
    "df.columns = ['NAME', 'PLACE', 'WEIGHT', 'MARRIED']\n",
    "df"
   ]
  },
  {
   "cell_type": "markdown",
   "id": "a73feb23",
   "metadata": {},
   "source": [
    "### `shape` \n",
    "returns: two-item tuple of number of rows and columns in the DataFrame"
   ]
  },
  {
   "cell_type": "code",
   "execution_count": 284,
   "id": "854a584d",
   "metadata": {},
   "outputs": [
    {
     "data": {
      "text/plain": [
       "(6, 4)"
      ]
     },
     "execution_count": 284,
     "metadata": {},
     "output_type": "execute_result"
    }
   ],
   "source": [
    "df.shape"
   ]
  },
  {
   "cell_type": "markdown",
   "id": "7bb8f220",
   "metadata": {},
   "source": [
    "### `values`\n",
    "returns: a single 2D NumPy array of all the columns of data."
   ]
  },
  {
   "cell_type": "code",
   "execution_count": 285,
   "id": "c88f9fbe",
   "metadata": {},
   "outputs": [
    {
     "data": {
      "text/plain": [
       "array([['John', 'Kolkata', 57, True],\n",
       "       ['Sam', 'Mumbai', 70, False],\n",
       "       ['Tina', 'Delhi', 54, True],\n",
       "       ['Josh', 'Mumbai', 59, False],\n",
       "       ['Jack', 'Mumbai', 62, False],\n",
       "       ['Jill', 'Mumbai', 70, False]], dtype=object)"
      ]
     },
     "execution_count": 285,
     "metadata": {},
     "output_type": "execute_result"
    }
   ],
   "source": [
    "df.values"
   ]
  },
  {
   "cell_type": "markdown",
   "id": "d845021f",
   "metadata": {},
   "source": [
    "### `dtypes`\n",
    "returns: a two-column `DataFrame` of column names in one column and their data type in the other"
   ]
  },
  {
   "cell_type": "code",
   "execution_count": 286,
   "id": "384ddf93",
   "metadata": {},
   "outputs": [
    {
     "data": {
      "text/html": [
       "<table><thead><tr><th></th><th>Column Name</th><th>Data Type </th></tr></thead><tbody><tr><td><strong>0</strong></td><td>NAME      </td><td>string    </td></tr><tr><td><strong>1</strong></td><td>PLACE     </td><td>string    </td></tr><tr><td><strong>2</strong></td><td>WEIGHT    </td><td>int       </td></tr><tr><td><strong>3</strong></td><td>MARRIED   </td><td>bool      </td></tr></tbody></table>"
      ],
      "text/plain": [
       "<ickle.DataFrame at 0x1dc407cf640>"
      ]
     },
     "execution_count": 286,
     "metadata": {},
     "output_type": "execute_result"
    }
   ],
   "source": [
    "df.dtypes"
   ]
  },
  {
   "cell_type": "markdown",
   "id": "ad6fdb90",
   "metadata": {},
   "source": [
    "## Selection of Subsets\n",
    "1. [Select a single column](#Select-a-single-column)\n",
    "2. [Select multiple columns](#Select-multiple-columns)\n",
    "3. [Boolean selection](#Boolean-selection)\n",
    "4. [Simultaneuous selection of row and column](#Simultaneuous-selection-of-row-and-column)\n",
    "6. [Add new / Overwrite existing columns](#Add-new-/-Overwrite-existing-columns)"
   ]
  },
  {
   "cell_type": "markdown",
   "id": "82b21a31",
   "metadata": {},
   "source": [
    "### Select a single column\n",
    "by passing the name of column as a string"
   ]
  },
  {
   "cell_type": "code",
   "execution_count": 287,
   "id": "992355b5",
   "metadata": {},
   "outputs": [
    {
     "data": {
      "text/html": [
       "<table><thead><tr><th></th><th>NAME      </th></tr></thead><tbody><tr><td><strong>0</strong></td><td>John      </td></tr><tr><td><strong>1</strong></td><td>Sam       </td></tr><tr><td><strong>2</strong></td><td>Tina      </td></tr><tr><td><strong>3</strong></td><td>Josh      </td></tr><tr><td><strong>4</strong></td><td>Jack      </td></tr><tr><td><strong>5</strong></td><td>Jill      </td></tr></tbody></table>"
      ],
      "text/plain": [
       "<ickle.DataFrame at 0x1dc407cf3d0>"
      ]
     },
     "execution_count": 287,
     "metadata": {},
     "output_type": "execute_result"
    }
   ],
   "source": [
    "df['NAME']"
   ]
  },
  {
   "cell_type": "markdown",
   "id": "679d01ce",
   "metadata": {},
   "source": [
    "### Select multiple columns \n",
    "by passing column names as a list of strings"
   ]
  },
  {
   "cell_type": "code",
   "execution_count": 288,
   "id": "4c2b9eb9",
   "metadata": {},
   "outputs": [
    {
     "data": {
      "text/html": [
       "<table><thead><tr><th></th><th>NAME      </th><th>PLACE     </th></tr></thead><tbody><tr><td><strong>0</strong></td><td>John      </td><td>Kolkata   </td></tr><tr><td><strong>1</strong></td><td>Sam       </td><td>Mumbai    </td></tr><tr><td><strong>2</strong></td><td>Tina      </td><td>Delhi     </td></tr><tr><td><strong>3</strong></td><td>Josh      </td><td>Mumbai    </td></tr><tr><td><strong>4</strong></td><td>Jack      </td><td>Mumbai    </td></tr><tr><td><strong>5</strong></td><td>Jill      </td><td>Mumbai    </td></tr></tbody></table>"
      ],
      "text/plain": [
       "<ickle.DataFrame at 0x1dc407cf6a0>"
      ]
     },
     "execution_count": 288,
     "metadata": {},
     "output_type": "execute_result"
    }
   ],
   "source": [
    "df[['NAME', 'PLACE']]"
   ]
  },
  {
   "cell_type": "markdown",
   "id": "11d85dc0",
   "metadata": {},
   "source": [
    "### Boolean Selection"
   ]
  },
  {
   "cell_type": "code",
   "execution_count": 289,
   "id": "adb77b5d",
   "metadata": {},
   "outputs": [
    {
     "data": {
      "text/html": [
       "<table><thead><tr><th></th><th>NAME      </th><th>PLACE     </th><th>WEIGHT    </th><th>MARRIED   </th></tr></thead><tbody><tr><td><strong>0</strong></td><td>Sam       </td><td>Mumbai    </td><td>        70</td><td>False</td></tr><tr><td><strong>1</strong></td><td>Jack      </td><td>Mumbai    </td><td>        62</td><td>False</td></tr><tr><td><strong>2</strong></td><td>Jill      </td><td>Mumbai    </td><td>        70</td><td>False</td></tr></tbody></table>"
      ],
      "text/plain": [
       "<ickle.DataFrame at 0x1dc407cf5b0>"
      ]
     },
     "execution_count": 289,
     "metadata": {},
     "output_type": "execute_result"
    }
   ],
   "source": [
    "bool_sel = df['WEIGHT'] > 60\n",
    "\n",
    "df[bool_sel]"
   ]
  },
  {
   "cell_type": "markdown",
   "id": "8c280a69",
   "metadata": {},
   "source": [
    "### Simultaneuous selection of row and column\n",
    "df[row, col]"
   ]
  },
  {
   "cell_type": "code",
   "execution_count": 290,
   "id": "b376c0f8",
   "metadata": {},
   "outputs": [
    {
     "data": {
      "text/html": [
       "<table><thead><tr><th></th><th>WEIGHT    </th></tr></thead><tbody><tr><td><strong>0</strong></td><td>        57</td></tr></tbody></table>"
      ],
      "text/plain": [
       "<ickle.DataFrame at 0x1dc407cfbb0>"
      ]
     },
     "execution_count": 290,
     "metadata": {},
     "output_type": "execute_result"
    }
   ],
   "source": [
    "df[0,2]"
   ]
  },
  {
   "cell_type": "markdown",
   "id": "acting-environment",
   "metadata": {},
   "source": [
    "### Select columns as strings"
   ]
  },
  {
   "cell_type": "code",
   "execution_count": 291,
   "id": "forced-forestry",
   "metadata": {},
   "outputs": [
    {
     "data": {
      "text/html": [
       "<table><thead><tr><th></th><th>WEIGHT    </th></tr></thead><tbody><tr><td><strong>0</strong></td><td>        57</td></tr></tbody></table>"
      ],
      "text/plain": [
       "<ickle.DataFrame at 0x1dc407cf6d0>"
      ]
     },
     "execution_count": 291,
     "metadata": {},
     "output_type": "execute_result"
    }
   ],
   "source": [
    "df[0, 'WEIGHT']"
   ]
  },
  {
   "cell_type": "markdown",
   "id": "exotic-closing",
   "metadata": {},
   "source": [
    "### Select rows as slices"
   ]
  },
  {
   "cell_type": "code",
   "execution_count": 292,
   "id": "wicked-consumer",
   "metadata": {},
   "outputs": [
    {
     "data": {
      "text/html": [
       "<table><thead><tr><th></th><th>WEIGHT    </th></tr></thead><tbody><tr><td><strong>0</strong></td><td>        57</td></tr></tbody></table>"
      ],
      "text/plain": [
       "<ickle.DataFrame at 0x1dc407cf0a0>"
      ]
     },
     "execution_count": 292,
     "metadata": {},
     "output_type": "execute_result"
    }
   ],
   "source": [
    "df[:1, 'WEIGHT']"
   ]
  },
  {
   "cell_type": "markdown",
   "id": "technological-pacific",
   "metadata": {},
   "source": [
    "### Select rows as booleans and lists"
   ]
  },
  {
   "cell_type": "code",
   "execution_count": 293,
   "id": "geological-bicycle",
   "metadata": {},
   "outputs": [],
   "source": [
    "bool_row = df['MARRIED']"
   ]
  },
  {
   "cell_type": "code",
   "execution_count": 294,
   "id": "invisible-apollo",
   "metadata": {},
   "outputs": [
    {
     "data": {
      "text/html": [
       "<table><thead><tr><th></th><th>WEIGHT    </th></tr></thead><tbody><tr><td><strong>0</strong></td><td>        57</td></tr><tr><td><strong>1</strong></td><td>        54</td></tr></tbody></table>"
      ],
      "text/plain": [
       "<ickle.DataFrame at 0x1dc407cff10>"
      ]
     },
     "execution_count": 294,
     "metadata": {},
     "output_type": "execute_result"
    }
   ],
   "source": [
    "df[bool_row, 'WEIGHT']"
   ]
  },
  {
   "cell_type": "markdown",
   "id": "4e16ad13",
   "metadata": {},
   "source": [
    "### Add new / Overwrite existing columns"
   ]
  },
  {
   "cell_type": "code",
   "execution_count": 295,
   "id": "338eb506",
   "metadata": {},
   "outputs": [
    {
     "data": {
      "text/html": [
       "<table><thead><tr><th></th><th>NAME      </th><th>PLACE     </th><th>WEIGHT    </th><th>MARRIED   </th><th>AGE       </th></tr></thead><tbody><tr><td><strong>0</strong></td><td>John      </td><td>Kolkata   </td><td>        57</td><td>True</td><td>        21</td></tr><tr><td><strong>1</strong></td><td>Sam       </td><td>Mumbai    </td><td>        70</td><td>False</td><td>        41</td></tr><tr><td><strong>2</strong></td><td>Tina      </td><td>Delhi     </td><td>        54</td><td>True</td><td>        22</td></tr><tr><td><strong>3</strong></td><td>Josh      </td><td>Mumbai    </td><td>        59</td><td>False</td><td>        42</td></tr><tr><td><strong>4</strong></td><td>Jack      </td><td>Mumbai    </td><td>        62</td><td>False</td><td>        32</td></tr><tr><td><strong>5</strong></td><td>Jill      </td><td>Mumbai    </td><td>        70</td><td>False</td><td>        25</td></tr></tbody></table>"
      ],
      "text/plain": [
       "<ickle.DataFrame at 0x1dc311e1190>"
      ]
     },
     "execution_count": 295,
     "metadata": {},
     "output_type": "execute_result"
    }
   ],
   "source": [
    "df['AGE'] = np.array([21, 41, 22, 42, 32, 25])\n",
    "df"
   ]
  },
  {
   "cell_type": "markdown",
   "id": "8dc613ac",
   "metadata": {},
   "source": [
    "## Basic And Aggregation Methods\n",
    "Basic Methods:\n",
    "1. [head()](#head())\n",
    "2. [tail()](#tail())\n",
    "\n",
    "Aggregation Methods:\n",
    "1. [min()](#min())\n",
    "2. [max()](#max())\n",
    "3. [mean()](#mean())\n",
    "4. [median()](#median())\n",
    "5. [sum()](#sum())\n",
    "6. [var()](#var())\n",
    "7. [std()](#std())\n",
    "8. [all()](#all())\n",
    "9. [any()](#any())\n",
    "10. [argmax()](#argmax())\n",
    "11. [argmin()](#argmin())"
   ]
  },
  {
   "cell_type": "markdown",
   "id": "f9ef40b9",
   "metadata": {},
   "source": [
    "### head(n)\n",
    "returns: the first n rows. By default n=5 "
   ]
  },
  {
   "cell_type": "code",
   "execution_count": 296,
   "id": "708ef787",
   "metadata": {},
   "outputs": [
    {
     "data": {
      "text/html": [
       "<table><thead><tr><th></th><th>NAME      </th><th>PLACE     </th><th>WEIGHT    </th><th>MARRIED   </th><th>AGE       </th></tr></thead><tbody><tr><td><strong>0</strong></td><td>John      </td><td>Kolkata   </td><td>        57</td><td>True</td><td>        21</td></tr><tr><td><strong>1</strong></td><td>Sam       </td><td>Mumbai    </td><td>        70</td><td>False</td><td>        41</td></tr><tr><td><strong>2</strong></td><td>Tina      </td><td>Delhi     </td><td>        54</td><td>True</td><td>        22</td></tr><tr><td><strong>3</strong></td><td>Josh      </td><td>Mumbai    </td><td>        59</td><td>False</td><td>        42</td></tr><tr><td><strong>4</strong></td><td>Jack      </td><td>Mumbai    </td><td>        62</td><td>False</td><td>        32</td></tr></tbody></table>"
      ],
      "text/plain": [
       "<ickle.DataFrame at 0x1dc407cf8e0>"
      ]
     },
     "execution_count": 296,
     "metadata": {},
     "output_type": "execute_result"
    }
   ],
   "source": [
    "df.head()"
   ]
  },
  {
   "cell_type": "markdown",
   "id": "short-wagon",
   "metadata": {},
   "source": [
    "### tail(n)\n",
    "return the last n rows. By default n=5"
   ]
  },
  {
   "cell_type": "code",
   "execution_count": 297,
   "id": "fdebc49f",
   "metadata": {},
   "outputs": [
    {
     "data": {
      "text/html": [
       "<table><thead><tr><th></th><th>NAME      </th><th>PLACE     </th><th>WEIGHT    </th><th>MARRIED   </th><th>AGE       </th></tr></thead><tbody><tr><td><strong>0</strong></td><td>Sam       </td><td>Mumbai    </td><td>        70</td><td>False</td><td>        41</td></tr><tr><td><strong>1</strong></td><td>Tina      </td><td>Delhi     </td><td>        54</td><td>True</td><td>        22</td></tr><tr><td><strong>2</strong></td><td>Josh      </td><td>Mumbai    </td><td>        59</td><td>False</td><td>        42</td></tr><tr><td><strong>3</strong></td><td>Jack      </td><td>Mumbai    </td><td>        62</td><td>False</td><td>        32</td></tr><tr><td><strong>4</strong></td><td>Jill      </td><td>Mumbai    </td><td>        70</td><td>False</td><td>        25</td></tr></tbody></table>"
      ],
      "text/plain": [
       "<ickle.DataFrame at 0x1dc407cf160>"
      ]
     },
     "execution_count": 297,
     "metadata": {},
     "output_type": "execute_result"
    }
   ],
   "source": [
    "df.tail()"
   ]
  },
  {
   "cell_type": "markdown",
   "id": "a00bfe6b",
   "metadata": {},
   "source": [
    "### Aggregation Methods\n",
    "\n",
    "All aggregation methods are applied only to columns of the `DataFrame`"
   ]
  },
  {
   "cell_type": "markdown",
   "id": "brilliant-prairie",
   "metadata": {},
   "source": [
    "## min()"
   ]
  },
  {
   "cell_type": "code",
   "execution_count": 298,
   "id": "d1a31bc0",
   "metadata": {},
   "outputs": [
    {
     "data": {
      "text/html": [
       "<table><thead><tr><th></th><th>NAME      </th><th>PLACE     </th><th>WEIGHT    </th><th>MARRIED   </th><th>AGE       </th></tr></thead><tbody><tr><td><strong>0</strong></td><td>Jack      </td><td>Delhi     </td><td>        54</td><td>False</td><td>        21</td></tr></tbody></table>"
      ],
      "text/plain": [
       "<ickle.DataFrame at 0x1dc407cfd00>"
      ]
     },
     "execution_count": 298,
     "metadata": {},
     "output_type": "execute_result"
    }
   ],
   "source": [
    "df.min()"
   ]
  },
  {
   "cell_type": "markdown",
   "id": "artificial-denmark",
   "metadata": {},
   "source": [
    "## max()"
   ]
  },
  {
   "cell_type": "code",
   "execution_count": 299,
   "id": "54a793d4",
   "metadata": {},
   "outputs": [
    {
     "data": {
      "text/html": [
       "<table><thead><tr><th></th><th>NAME      </th><th>PLACE     </th><th>WEIGHT    </th><th>MARRIED   </th><th>AGE       </th></tr></thead><tbody><tr><td><strong>0</strong></td><td>Tina      </td><td>Mumbai    </td><td>        70</td><td>True</td><td>        42</td></tr></tbody></table>"
      ],
      "text/plain": [
       "<ickle.DataFrame at 0x1dc407a93d0>"
      ]
     },
     "execution_count": 299,
     "metadata": {},
     "output_type": "execute_result"
    }
   ],
   "source": [
    "df.max()"
   ]
  },
  {
   "cell_type": "markdown",
   "id": "foster-moses",
   "metadata": {},
   "source": [
    "## max()"
   ]
  },
  {
   "cell_type": "code",
   "execution_count": 300,
   "id": "06e6994d",
   "metadata": {},
   "outputs": [
    {
     "data": {
      "text/html": [
       "<table><thead><tr><th></th><th>WEIGHT    </th><th>MARRIED   </th><th>AGE       </th></tr></thead><tbody><tr><td><strong>0</strong></td><td>    60.500</td><td>     0.000</td><td>    28.500</td></tr></tbody></table>"
      ],
      "text/plain": [
       "<ickle.DataFrame at 0x1dc407d1100>"
      ]
     },
     "execution_count": 300,
     "metadata": {},
     "output_type": "execute_result"
    }
   ],
   "source": [
    "df.median()"
   ]
  },
  {
   "cell_type": "markdown",
   "id": "corrected-belize",
   "metadata": {},
   "source": [
    "## mean()"
   ]
  },
  {
   "cell_type": "code",
   "execution_count": 301,
   "id": "a595c55d",
   "metadata": {},
   "outputs": [
    {
     "data": {
      "text/html": [
       "<table><thead><tr><th></th><th>WEIGHT    </th><th>MARRIED   </th><th>AGE       </th></tr></thead><tbody><tr><td><strong>0</strong></td><td>    62.000</td><td>     0.333</td><td>    30.500</td></tr></tbody></table>"
      ],
      "text/plain": [
       "<ickle.DataFrame at 0x1dc407d10a0>"
      ]
     },
     "execution_count": 301,
     "metadata": {},
     "output_type": "execute_result"
    }
   ],
   "source": [
    "df.mean()"
   ]
  },
  {
   "cell_type": "markdown",
   "id": "mineral-contribution",
   "metadata": {},
   "source": [
    "## sum()"
   ]
  },
  {
   "cell_type": "code",
   "execution_count": 302,
   "id": "366c80e9",
   "metadata": {},
   "outputs": [
    {
     "data": {
      "text/html": [
       "<table><thead><tr><th></th><th>NAME      </th><th>PLACE     </th><th>WEIGHT    </th><th>MARRIED   </th><th>AGE       </th></tr></thead><tbody><tr><td><strong>0</strong></td><td>JohnSamTinaJoshJackJill</td><td>KolkataMumbaiDelhiMumbaiMumbaiMumbai</td><td>       372</td><td>         2</td><td>       183</td></tr></tbody></table>"
      ],
      "text/plain": [
       "<ickle.DataFrame at 0x1dc407d1a90>"
      ]
     },
     "execution_count": 302,
     "metadata": {},
     "output_type": "execute_result"
    }
   ],
   "source": [
    "df.sum()"
   ]
  },
  {
   "cell_type": "markdown",
   "id": "japanese-spanking",
   "metadata": {},
   "source": [
    "## var()"
   ]
  },
  {
   "cell_type": "code",
   "execution_count": 303,
   "id": "b94e56d0",
   "metadata": {},
   "outputs": [
    {
     "data": {
      "text/html": [
       "<table><thead><tr><th></th><th>WEIGHT    </th><th>MARRIED   </th><th>AGE       </th></tr></thead><tbody><tr><td><strong>0</strong></td><td>    37.667</td><td>     0.222</td><td>    72.917</td></tr></tbody></table>"
      ],
      "text/plain": [
       "<ickle.DataFrame at 0x1dc407d1dc0>"
      ]
     },
     "execution_count": 303,
     "metadata": {},
     "output_type": "execute_result"
    }
   ],
   "source": [
    "df.var()"
   ]
  },
  {
   "cell_type": "markdown",
   "id": "reliable-tulsa",
   "metadata": {},
   "source": [
    "## std()"
   ]
  },
  {
   "cell_type": "code",
   "execution_count": 305,
   "id": "9527eac3",
   "metadata": {},
   "outputs": [
    {
     "data": {
      "text/html": [
       "<table><thead><tr><th></th><th>WEIGHT    </th><th>MARRIED   </th><th>AGE       </th></tr></thead><tbody><tr><td><strong>0</strong></td><td>     6.137</td><td>     0.471</td><td>     8.539</td></tr></tbody></table>"
      ],
      "text/plain": [
       "<ickle.DataFrame at 0x1dc407d16a0>"
      ]
     },
     "execution_count": 305,
     "metadata": {},
     "output_type": "execute_result"
    }
   ],
   "source": [
    "df.std()"
   ]
  },
  {
   "cell_type": "markdown",
   "id": "corporate-power",
   "metadata": {},
   "source": [
    "## all()"
   ]
  },
  {
   "cell_type": "code",
   "execution_count": 307,
   "id": "5269b024",
   "metadata": {},
   "outputs": [
    {
     "data": {
      "text/html": [
       "<table><thead><tr><th></th><th>NAME      </th><th>PLACE     </th><th>WEIGHT    </th><th>MARRIED   </th><th>AGE       </th></tr></thead><tbody><tr><td><strong>0</strong></td><td>Jill      </td><td>Mumbai    </td><td>True</td><td>False</td><td>True</td></tr></tbody></table>"
      ],
      "text/plain": [
       "<ickle.DataFrame at 0x1dc407d1820>"
      ]
     },
     "execution_count": 307,
     "metadata": {},
     "output_type": "execute_result"
    }
   ],
   "source": [
    "df.all()"
   ]
  },
  {
   "cell_type": "markdown",
   "id": "regional-spanking",
   "metadata": {},
   "source": [
    "## any()"
   ]
  },
  {
   "cell_type": "code",
   "execution_count": 309,
   "id": "ad0f9aad",
   "metadata": {},
   "outputs": [
    {
     "data": {
      "text/html": [
       "<table><thead><tr><th></th><th>NAME      </th><th>PLACE     </th><th>WEIGHT    </th><th>MARRIED   </th><th>AGE       </th></tr></thead><tbody><tr><td><strong>0</strong></td><td>John      </td><td>Kolkata   </td><td>True</td><td>True</td><td>True</td></tr></tbody></table>"
      ],
      "text/plain": [
       "<ickle.DataFrame at 0x1dc407d1340>"
      ]
     },
     "execution_count": 309,
     "metadata": {},
     "output_type": "execute_result"
    }
   ],
   "source": [
    "df.any()"
   ]
  },
  {
   "cell_type": "markdown",
   "id": "moving-account",
   "metadata": {},
   "source": [
    "## argmax()"
   ]
  },
  {
   "cell_type": "code",
   "execution_count": 311,
   "id": "b165d213",
   "metadata": {},
   "outputs": [
    {
     "data": {
      "text/html": [
       "<table><thead><tr><th></th><th>NAME      </th><th>PLACE     </th><th>WEIGHT    </th><th>MARRIED   </th><th>AGE       </th></tr></thead><tbody><tr><td><strong>0</strong></td><td>         2</td><td>         1</td><td>         1</td><td>         0</td><td>         3</td></tr></tbody></table>"
      ],
      "text/plain": [
       "<ickle.DataFrame at 0x1dc407d1400>"
      ]
     },
     "execution_count": 311,
     "metadata": {},
     "output_type": "execute_result"
    }
   ],
   "source": [
    "df.argmax()"
   ]
  },
  {
   "cell_type": "markdown",
   "id": "respective-fairy",
   "metadata": {},
   "source": [
    "## argmin()"
   ]
  },
  {
   "cell_type": "code",
   "execution_count": 313,
   "id": "f1671979",
   "metadata": {},
   "outputs": [
    {
     "data": {
      "text/html": [
       "<table><thead><tr><th></th><th>NAME      </th><th>PLACE     </th><th>WEIGHT    </th><th>MARRIED   </th><th>AGE       </th></tr></thead><tbody><tr><td><strong>0</strong></td><td>         4</td><td>         2</td><td>         2</td><td>         1</td><td>         0</td></tr></tbody></table>"
      ],
      "text/plain": [
       "<ickle.DataFrame at 0x1dc407d1fa0>"
      ]
     },
     "execution_count": 313,
     "metadata": {},
     "output_type": "execute_result"
    }
   ],
   "source": [
    "df.argmin()"
   ]
  },
  {
   "cell_type": "markdown",
   "id": "caroline-kinase",
   "metadata": {},
   "source": [
    "## Other Methods \n",
    "1. [isna()]\n",
    "2. [count()]\n",
    "3. [unique()]\n",
    "4. [nunique()]\n",
    "5. [value_counts()]\n",
    "6. [rename()]\n",
    "7. [drop()]\n",
    "8. [diff()]\n",
    "9. [pct_change()]\n",
    "10. [sort_values()]\n",
    "11. [sample()]"
   ]
  },
  {
   "cell_type": "code",
   "execution_count": 314,
   "id": "8b47a2a3",
   "metadata": {},
   "outputs": [
    {
     "data": {
      "text/html": [
       "<table><thead><tr><th></th><th>NAME      </th><th>PLACE     </th><th>WEIGHT    </th><th>MARRIED   </th><th>AGE       </th></tr></thead><tbody><tr><td><strong>0</strong></td><td>False</td><td>False</td><td>False</td><td>False</td><td>False</td></tr><tr><td><strong>1</strong></td><td>False</td><td>False</td><td>False</td><td>False</td><td>False</td></tr><tr><td><strong>2</strong></td><td>False</td><td>False</td><td>False</td><td>False</td><td>False</td></tr><tr><td><strong>3</strong></td><td>False</td><td>False</td><td>False</td><td>False</td><td>False</td></tr><tr><td><strong>4</strong></td><td>False</td><td>False</td><td>False</td><td>False</td><td>False</td></tr><tr><td><strong>5</strong></td><td>False</td><td>False</td><td>False</td><td>False</td><td>False</td></tr></tbody></table>"
      ],
      "text/plain": [
       "<ickle.DataFrame at 0x1dc406c3130>"
      ]
     },
     "execution_count": 314,
     "metadata": {},
     "output_type": "execute_result"
    }
   ],
   "source": [
    "df.isna()"
   ]
  },
  {
   "cell_type": "code",
   "execution_count": 315,
   "id": "da271425",
   "metadata": {},
   "outputs": [
    {
     "data": {
      "text/html": [
       "<table><thead><tr><th></th><th>NAME      </th><th>PLACE     </th><th>WEIGHT    </th><th>MARRIED   </th><th>AGE       </th></tr></thead><tbody><tr><td><strong>0</strong></td><td>         6</td><td>         6</td><td>         6</td><td>         6</td><td>         6</td></tr></tbody></table>"
      ],
      "text/plain": [
       "<ickle.DataFrame at 0x1dc407c2eb0>"
      ]
     },
     "execution_count": 315,
     "metadata": {},
     "output_type": "execute_result"
    }
   ],
   "source": [
    "df.count()"
   ]
  },
  {
   "cell_type": "code",
   "execution_count": 316,
   "id": "8abf8bd4",
   "metadata": {},
   "outputs": [
    {
     "data": {
      "text/html": [
       "<table><thead><tr><th></th><th>MARRIED   </th></tr></thead><tbody><tr><td><strong>0</strong></td><td>False</td></tr><tr><td><strong>1</strong></td><td>True</td></tr></tbody></table>"
      ],
      "text/plain": [
       "<ickle.DataFrame at 0x1dc407d11c0>"
      ]
     },
     "execution_count": 316,
     "metadata": {},
     "output_type": "execute_result"
    }
   ],
   "source": [
    "dfs = df.unique()\n",
    "dfs[3]"
   ]
  },
  {
   "cell_type": "code",
   "execution_count": 317,
   "id": "ac159969",
   "metadata": {},
   "outputs": [
    {
     "data": {
      "text/html": [
       "<table><thead><tr><th></th><th>NAME      </th><th>PLACE     </th><th>WEIGHT    </th><th>MARRIED   </th><th>AGE       </th></tr></thead><tbody><tr><td><strong>0</strong></td><td>         6</td><td>         3</td><td>         5</td><td>         2</td><td>         6</td></tr></tbody></table>"
      ],
      "text/plain": [
       "<ickle.DataFrame at 0x1dc406bc9a0>"
      ]
     },
     "execution_count": 317,
     "metadata": {},
     "output_type": "execute_result"
    }
   ],
   "source": [
    "df.nunique()"
   ]
  },
  {
   "cell_type": "code",
   "execution_count": 318,
   "id": "54b3942e",
   "metadata": {},
   "outputs": [
    {
     "data": {
      "text/html": [
       "<table><thead><tr><th></th><th>PLACE     </th><th>count     </th></tr></thead><tbody><tr><td><strong>0</strong></td><td>Mumbai    </td><td>         4</td></tr><tr><td><strong>1</strong></td><td>Delhi     </td><td>         1</td></tr><tr><td><strong>2</strong></td><td>Kolkata   </td><td>         1</td></tr></tbody></table>"
      ],
      "text/plain": [
       "<ickle.DataFrame at 0x1dc407d1580>"
      ]
     },
     "execution_count": 318,
     "metadata": {},
     "output_type": "execute_result"
    }
   ],
   "source": [
    "dfs = df.value_counts()\n",
    "dfs[1]"
   ]
  },
  {
   "cell_type": "code",
   "execution_count": 319,
   "id": "e052881c",
   "metadata": {},
   "outputs": [
    {
     "data": {
      "text/html": [
       "<table><thead><tr><th></th><th>NAME      </th><th>PLACE     </th><th>WEIGHT (kg)</th><th>MARRIED   </th><th>AGE       </th></tr></thead><tbody><tr><td><strong>0</strong></td><td>John      </td><td>Kolkata   </td><td>        57</td><td>True</td><td>        21</td></tr><tr><td><strong>1</strong></td><td>Sam       </td><td>Mumbai    </td><td>        70</td><td>False</td><td>        41</td></tr><tr><td><strong>2</strong></td><td>Tina      </td><td>Delhi     </td><td>        54</td><td>True</td><td>        22</td></tr><tr><td><strong>3</strong></td><td>Josh      </td><td>Mumbai    </td><td>        59</td><td>False</td><td>        42</td></tr><tr><td><strong>4</strong></td><td>Jack      </td><td>Mumbai    </td><td>        62</td><td>False</td><td>        32</td></tr><tr><td><strong>5</strong></td><td>Jill      </td><td>Mumbai    </td><td>        70</td><td>False</td><td>        25</td></tr></tbody></table>"
      ],
      "text/plain": [
       "<ickle.DataFrame at 0x1dc407cf850>"
      ]
     },
     "execution_count": 319,
     "metadata": {},
     "output_type": "execute_result"
    }
   ],
   "source": [
    "df.rename({'WEIGHT': 'WEIGHT (kg)'})"
   ]
  },
  {
   "cell_type": "code",
   "execution_count": 320,
   "id": "9fde87bb",
   "metadata": {},
   "outputs": [
    {
     "data": {
      "text/html": [
       "<table><thead><tr><th></th><th>NAME      </th><th>PLACE     </th><th>WEIGHT    </th><th>MARRIED   </th></tr></thead><tbody><tr><td><strong>0</strong></td><td>John      </td><td>Kolkata   </td><td>        57</td><td>True</td></tr><tr><td><strong>1</strong></td><td>Sam       </td><td>Mumbai    </td><td>        70</td><td>False</td></tr><tr><td><strong>2</strong></td><td>Tina      </td><td>Delhi     </td><td>        54</td><td>True</td></tr><tr><td><strong>3</strong></td><td>Josh      </td><td>Mumbai    </td><td>        59</td><td>False</td></tr><tr><td><strong>4</strong></td><td>Jack      </td><td>Mumbai    </td><td>        62</td><td>False</td></tr><tr><td><strong>5</strong></td><td>Jill      </td><td>Mumbai    </td><td>        70</td><td>False</td></tr></tbody></table>"
      ],
      "text/plain": [
       "<ickle.DataFrame at 0x1dc407d1970>"
      ]
     },
     "execution_count": 320,
     "metadata": {},
     "output_type": "execute_result"
    }
   ],
   "source": [
    "df.drop('AGE')"
   ]
  },
  {
   "cell_type": "markdown",
   "id": "bfd30c5a",
   "metadata": {},
   "source": [
    "## Non Aggregation Methods\n",
    "1. [abs()]\n",
    "2. [cummin()]\n",
    "3. [cummax()]\n",
    "4. [cumsum()]\n",
    "5. [clip()]\n",
    "6. [round()]\n",
    "7. [copy()]"
   ]
  },
  {
   "cell_type": "code",
   "execution_count": 321,
   "id": "153a3d1a",
   "metadata": {},
   "outputs": [
    {
     "data": {
      "text/html": [
       "<table><thead><tr><th></th><th>NAME      </th><th>PLACE     </th><th>WEIGHT    </th><th>MARRIED   </th><th>AGE       </th></tr></thead><tbody><tr><td><strong>0</strong></td><td>John      </td><td>Kolkata   </td><td>        57</td><td>True</td><td>        21</td></tr><tr><td><strong>1</strong></td><td>Sam       </td><td>Mumbai    </td><td>        70</td><td>False</td><td>        41</td></tr><tr><td><strong>2</strong></td><td>Tina      </td><td>Delhi     </td><td>        54</td><td>True</td><td>        22</td></tr><tr><td><strong>3</strong></td><td>Josh      </td><td>Mumbai    </td><td>        59</td><td>False</td><td>        42</td></tr><tr><td><strong>4</strong></td><td>Jack      </td><td>Mumbai    </td><td>        62</td><td>False</td><td>        32</td></tr><tr><td><strong>5</strong></td><td>Jill      </td><td>Mumbai    </td><td>        70</td><td>False</td><td>        25</td></tr></tbody></table>"
      ],
      "text/plain": [
       "<ickle.DataFrame at 0x1dc407c9100>"
      ]
     },
     "execution_count": 321,
     "metadata": {},
     "output_type": "execute_result"
    }
   ],
   "source": [
    "df.abs()"
   ]
  },
  {
   "cell_type": "code",
   "execution_count": 322,
   "id": "d7d02237",
   "metadata": {},
   "outputs": [
    {
     "data": {
      "text/html": [
       "<table><thead><tr><th></th><th>NAME      </th><th>PLACE     </th><th>WEIGHT    </th><th>MARRIED   </th><th>AGE       </th></tr></thead><tbody><tr><td><strong>0</strong></td><td>John      </td><td>Kolkata   </td><td>        57</td><td>True</td><td>        21</td></tr><tr><td><strong>1</strong></td><td>Sam       </td><td>Mumbai    </td><td>        57</td><td>False</td><td>        21</td></tr><tr><td><strong>2</strong></td><td>Tina      </td><td>Delhi     </td><td>        54</td><td>False</td><td>        21</td></tr><tr><td><strong>3</strong></td><td>Josh      </td><td>Mumbai    </td><td>        54</td><td>False</td><td>        21</td></tr><tr><td><strong>4</strong></td><td>Jack      </td><td>Mumbai    </td><td>        54</td><td>False</td><td>        21</td></tr><tr><td><strong>5</strong></td><td>Jill      </td><td>Mumbai    </td><td>        54</td><td>False</td><td>        21</td></tr></tbody></table>"
      ],
      "text/plain": [
       "<ickle.DataFrame at 0x1dc407c9490>"
      ]
     },
     "execution_count": 322,
     "metadata": {},
     "output_type": "execute_result"
    }
   ],
   "source": [
    "df.cummin()"
   ]
  },
  {
   "cell_type": "code",
   "execution_count": 323,
   "id": "966e80a5",
   "metadata": {},
   "outputs": [
    {
     "data": {
      "text/html": [
       "<table><thead><tr><th></th><th>NAME      </th><th>PLACE     </th><th>WEIGHT    </th><th>MARRIED   </th><th>AGE       </th></tr></thead><tbody><tr><td><strong>0</strong></td><td>John      </td><td>Kolkata   </td><td>        57</td><td>True</td><td>        21</td></tr><tr><td><strong>1</strong></td><td>Sam       </td><td>Mumbai    </td><td>        70</td><td>True</td><td>        41</td></tr><tr><td><strong>2</strong></td><td>Tina      </td><td>Delhi     </td><td>        70</td><td>True</td><td>        41</td></tr><tr><td><strong>3</strong></td><td>Josh      </td><td>Mumbai    </td><td>        70</td><td>True</td><td>        42</td></tr><tr><td><strong>4</strong></td><td>Jack      </td><td>Mumbai    </td><td>        70</td><td>True</td><td>        42</td></tr><tr><td><strong>5</strong></td><td>Jill      </td><td>Mumbai    </td><td>        70</td><td>True</td><td>        42</td></tr></tbody></table>"
      ],
      "text/plain": [
       "<ickle.DataFrame at 0x1dc407c9c10>"
      ]
     },
     "execution_count": 323,
     "metadata": {},
     "output_type": "execute_result"
    }
   ],
   "source": [
    "df.cummax()"
   ]
  },
  {
   "cell_type": "code",
   "execution_count": 324,
   "id": "12b48747",
   "metadata": {},
   "outputs": [
    {
     "data": {
      "text/html": [
       "<table><thead><tr><th></th><th>NAME      </th><th>PLACE     </th><th>WEIGHT    </th><th>MARRIED   </th><th>AGE       </th></tr></thead><tbody><tr><td><strong>0</strong></td><td>John      </td><td>Kolkata   </td><td>        57</td><td>         1</td><td>        21</td></tr><tr><td><strong>1</strong></td><td>Sam       </td><td>Mumbai    </td><td>       127</td><td>         1</td><td>        62</td></tr><tr><td><strong>2</strong></td><td>Tina      </td><td>Delhi     </td><td>       181</td><td>         2</td><td>        84</td></tr><tr><td><strong>3</strong></td><td>Josh      </td><td>Mumbai    </td><td>       240</td><td>         2</td><td>       126</td></tr><tr><td><strong>4</strong></td><td>Jack      </td><td>Mumbai    </td><td>       302</td><td>         2</td><td>       158</td></tr><tr><td><strong>5</strong></td><td>Jill      </td><td>Mumbai    </td><td>       372</td><td>         2</td><td>       183</td></tr></tbody></table>"
      ],
      "text/plain": [
       "<ickle.DataFrame at 0x1dc407e9100>"
      ]
     },
     "execution_count": 324,
     "metadata": {},
     "output_type": "execute_result"
    }
   ],
   "source": [
    "df.cumsum()"
   ]
  },
  {
   "cell_type": "code",
   "execution_count": 325,
   "id": "f786de6f",
   "metadata": {},
   "outputs": [
    {
     "data": {
      "text/html": [
       "<table><thead><tr><th></th><th>NAME      </th><th>PLACE     </th><th>WEIGHT    </th><th>MARRIED   </th><th>AGE       </th></tr></thead><tbody><tr><td><strong>0</strong></td><td>John      </td><td>Kolkata   </td><td>        57</td><td>        55</td><td>        55</td></tr><tr><td><strong>1</strong></td><td>Sam       </td><td>Mumbai    </td><td>        60</td><td>        55</td><td>        55</td></tr><tr><td><strong>2</strong></td><td>Tina      </td><td>Delhi     </td><td>        55</td><td>        55</td><td>        55</td></tr><tr><td><strong>3</strong></td><td>Josh      </td><td>Mumbai    </td><td>        59</td><td>        55</td><td>        55</td></tr><tr><td><strong>4</strong></td><td>Jack      </td><td>Mumbai    </td><td>        60</td><td>        55</td><td>        55</td></tr><tr><td><strong>5</strong></td><td>Jill      </td><td>Mumbai    </td><td>        60</td><td>        55</td><td>        55</td></tr></tbody></table>"
      ],
      "text/plain": [
       "<ickle.DataFrame at 0x1dc407e92e0>"
      ]
     },
     "execution_count": 325,
     "metadata": {},
     "output_type": "execute_result"
    }
   ],
   "source": [
    "df.clip(lower=55, upper=60)"
   ]
  },
  {
   "cell_type": "code",
   "execution_count": 326,
   "id": "29e5b1c0",
   "metadata": {},
   "outputs": [
    {
     "data": {
      "text/html": [
       "<table><thead><tr><th></th><th>NAME      </th><th>PLACE     </th><th>WEIGHT    </th><th>MARRIED   </th><th>AGE       </th></tr></thead><tbody><tr><td><strong>0</strong></td><td>John      </td><td>Kolkata   </td><td>        57</td><td>True</td><td>        21</td></tr><tr><td><strong>1</strong></td><td>Sam       </td><td>Mumbai    </td><td>        70</td><td>False</td><td>        41</td></tr><tr><td><strong>2</strong></td><td>Tina      </td><td>Delhi     </td><td>        54</td><td>True</td><td>        22</td></tr><tr><td><strong>3</strong></td><td>Josh      </td><td>Mumbai    </td><td>        59</td><td>False</td><td>        42</td></tr><tr><td><strong>4</strong></td><td>Jack      </td><td>Mumbai    </td><td>        62</td><td>False</td><td>        32</td></tr><tr><td><strong>5</strong></td><td>Jill      </td><td>Mumbai    </td><td>        70</td><td>False</td><td>        25</td></tr></tbody></table>"
      ],
      "text/plain": [
       "<ickle.DataFrame at 0x1dc407e9340>"
      ]
     },
     "execution_count": 326,
     "metadata": {},
     "output_type": "execute_result"
    }
   ],
   "source": [
    "df.round(n=1)"
   ]
  },
  {
   "cell_type": "code",
   "execution_count": 327,
   "id": "97de4076",
   "metadata": {},
   "outputs": [
    {
     "data": {
      "text/html": [
       "<table><thead><tr><th></th><th>NAME      </th><th>PLACE     </th><th>WEIGHT    </th><th>MARRIED   </th><th>AGE       </th></tr></thead><tbody><tr><td><strong>0</strong></td><td>John      </td><td>Kolkata   </td><td>        57</td><td>True</td><td>        21</td></tr><tr><td><strong>1</strong></td><td>Sam       </td><td>Mumbai    </td><td>        70</td><td>False</td><td>        41</td></tr><tr><td><strong>2</strong></td><td>Tina      </td><td>Delhi     </td><td>        54</td><td>True</td><td>        22</td></tr><tr><td><strong>3</strong></td><td>Josh      </td><td>Mumbai    </td><td>        59</td><td>False</td><td>        42</td></tr><tr><td><strong>4</strong></td><td>Jack      </td><td>Mumbai    </td><td>        62</td><td>False</td><td>        32</td></tr><tr><td><strong>5</strong></td><td>Jill      </td><td>Mumbai    </td><td>        70</td><td>False</td><td>        25</td></tr></tbody></table>"
      ],
      "text/plain": [
       "<ickle.DataFrame at 0x1dc407e9370>"
      ]
     },
     "execution_count": 327,
     "metadata": {},
     "output_type": "execute_result"
    }
   ],
   "source": [
    "df.copy()"
   ]
  },
  {
   "cell_type": "code",
   "execution_count": 328,
   "id": "873d3d04",
   "metadata": {},
   "outputs": [
    {
     "data": {
      "text/html": [
       "<table><thead><tr><th></th><th>NAME      </th><th>PLACE     </th><th>WEIGHT    </th><th>MARRIED   </th><th>AGE       </th></tr></thead><tbody><tr><td><strong>0</strong></td><td>John      </td><td>Kolkata   </td><td>       nan</td><td>       nan</td><td>       nan</td></tr><tr><td><strong>1</strong></td><td>Sam       </td><td>Mumbai    </td><td>    13.000</td><td>    -1.000</td><td>    20.000</td></tr><tr><td><strong>2</strong></td><td>Tina      </td><td>Delhi     </td><td>   -16.000</td><td>     1.000</td><td>   -19.000</td></tr><tr><td><strong>3</strong></td><td>Josh      </td><td>Mumbai    </td><td>     5.000</td><td>    -1.000</td><td>    20.000</td></tr><tr><td><strong>4</strong></td><td>Jack      </td><td>Mumbai    </td><td>     3.000</td><td>     0.000</td><td>   -10.000</td></tr><tr><td><strong>5</strong></td><td>Jill      </td><td>Mumbai    </td><td>     8.000</td><td>     0.000</td><td>    -7.000</td></tr></tbody></table>"
      ],
      "text/plain": [
       "<ickle.DataFrame at 0x1dc407e9490>"
      ]
     },
     "execution_count": 328,
     "metadata": {},
     "output_type": "execute_result"
    }
   ],
   "source": [
    "df.diff(n=1)"
   ]
  },
  {
   "cell_type": "code",
   "execution_count": 329,
   "id": "7311dd8f",
   "metadata": {},
   "outputs": [
    {
     "data": {
      "text/html": [
       "<table><thead><tr><th></th><th>NAME      </th><th>PLACE     </th><th>WEIGHT    </th><th>MARRIED   </th><th>AGE       </th></tr></thead><tbody><tr><td><strong>0</strong></td><td>John      </td><td>Kolkata   </td><td>       nan</td><td>       nan</td><td>       nan</td></tr><tr><td><strong>1</strong></td><td>Sam       </td><td>Mumbai    </td><td>     0.228</td><td>    -1.000</td><td>     0.952</td></tr><tr><td><strong>2</strong></td><td>Tina      </td><td>Delhi     </td><td>    -0.229</td><td>       inf</td><td>    -0.463</td></tr><tr><td><strong>3</strong></td><td>Josh      </td><td>Mumbai    </td><td>     0.093</td><td>    -1.000</td><td>     0.909</td></tr><tr><td><strong>4</strong></td><td>Jack      </td><td>Mumbai    </td><td>     0.051</td><td>       nan</td><td>    -0.238</td></tr><tr><td><strong>5</strong></td><td>Jill      </td><td>Mumbai    </td><td>     0.129</td><td>       nan</td><td>    -0.219</td></tr></tbody></table>"
      ],
      "text/plain": [
       "<ickle.DataFrame at 0x1dc407e9700>"
      ]
     },
     "execution_count": 329,
     "metadata": {},
     "output_type": "execute_result"
    }
   ],
   "source": [
    "df.pct_change(n=1)"
   ]
  },
  {
   "cell_type": "markdown",
   "id": "5beea9aa",
   "metadata": {},
   "source": [
    "## Arithmetic And Comparison Operators \n",
    "1. [Addition](#Addition)\n",
    "2. [Subtraction](#Subtraction)\n",
    "3. [Multiplication](#Multiplication)\n",
    "4. [Division](#Division)\n",
    "5. [Floor Division](#Floor-Division)\n",
    "6. [Power](#Power)\n",
    "7. [Greater than](#Greater-than)\n",
    "8. [Less than](#Less-than)\n",
    "9. [Greater than equal to](#Greater-than-equal)\n",
    "10. [Lesser than equal to](#Lesser-than-equal)\n",
    "11. [Not Equal](#Not-Equal)\n",
    "12. [Equal](#Equal)\n",
    "\n",
    "*Arithemtic and Comparison Operators only work with numerical columns*"
   ]
  },
  {
   "cell_type": "code",
   "execution_count": 330,
   "id": "usual-green",
   "metadata": {},
   "outputs": [],
   "source": [
    "df_op = df['WEIGHT']"
   ]
  },
  {
   "cell_type": "markdown",
   "id": "imposed-spanish",
   "metadata": {},
   "source": [
    "### Addition"
   ]
  },
  {
   "cell_type": "code",
   "execution_count": 331,
   "id": "remarkable-situation",
   "metadata": {},
   "outputs": [
    {
     "data": {
      "text/html": [
       "<table><thead><tr><th></th><th>WEIGHT    </th></tr></thead><tbody><tr><td><strong>0</strong></td><td>        59</td></tr><tr><td><strong>1</strong></td><td>        72</td></tr><tr><td><strong>2</strong></td><td>        56</td></tr><tr><td><strong>3</strong></td><td>        61</td></tr><tr><td><strong>4</strong></td><td>        64</td></tr><tr><td><strong>5</strong></td><td>        72</td></tr></tbody></table>"
      ],
      "text/plain": [
       "<ickle.DataFrame at 0x1dc407e9910>"
      ]
     },
     "execution_count": 331,
     "metadata": {},
     "output_type": "execute_result"
    }
   ],
   "source": [
    "df_op + 2"
   ]
  },
  {
   "cell_type": "code",
   "execution_count": 332,
   "id": "given-johnson",
   "metadata": {},
   "outputs": [
    {
     "data": {
      "text/html": [
       "<table><thead><tr><th></th><th>WEIGHT    </th></tr></thead><tbody><tr><td><strong>0</strong></td><td>        59</td></tr><tr><td><strong>1</strong></td><td>        72</td></tr><tr><td><strong>2</strong></td><td>        56</td></tr><tr><td><strong>3</strong></td><td>        61</td></tr><tr><td><strong>4</strong></td><td>        64</td></tr><tr><td><strong>5</strong></td><td>        72</td></tr></tbody></table>"
      ],
      "text/plain": [
       "<ickle.DataFrame at 0x1dc407e91c0>"
      ]
     },
     "execution_count": 332,
     "metadata": {},
     "output_type": "execute_result"
    }
   ],
   "source": [
    "2 + df_op"
   ]
  },
  {
   "cell_type": "markdown",
   "id": "boolean-relevance",
   "metadata": {},
   "source": [
    "### Subtraction"
   ]
  },
  {
   "cell_type": "code",
   "execution_count": 333,
   "id": "indoor-acrobat",
   "metadata": {},
   "outputs": [
    {
     "data": {
      "text/html": [
       "<table><thead><tr><th></th><th>WEIGHT    </th></tr></thead><tbody><tr><td><strong>0</strong></td><td>        55</td></tr><tr><td><strong>1</strong></td><td>        68</td></tr><tr><td><strong>2</strong></td><td>        52</td></tr><tr><td><strong>3</strong></td><td>        57</td></tr><tr><td><strong>4</strong></td><td>        60</td></tr><tr><td><strong>5</strong></td><td>        68</td></tr></tbody></table>"
      ],
      "text/plain": [
       "<ickle.DataFrame at 0x1dc407e9ac0>"
      ]
     },
     "execution_count": 333,
     "metadata": {},
     "output_type": "execute_result"
    }
   ],
   "source": [
    "df_op - 2"
   ]
  },
  {
   "cell_type": "code",
   "execution_count": 334,
   "id": "antique-acceptance",
   "metadata": {},
   "outputs": [
    {
     "data": {
      "text/html": [
       "<table><thead><tr><th></th><th>WEIGHT    </th></tr></thead><tbody><tr><td><strong>0</strong></td><td>       -55</td></tr><tr><td><strong>1</strong></td><td>       -68</td></tr><tr><td><strong>2</strong></td><td>       -52</td></tr><tr><td><strong>3</strong></td><td>       -57</td></tr><tr><td><strong>4</strong></td><td>       -60</td></tr><tr><td><strong>5</strong></td><td>       -68</td></tr></tbody></table>"
      ],
      "text/plain": [
       "<ickle.DataFrame at 0x1dc407e9880>"
      ]
     },
     "execution_count": 334,
     "metadata": {},
     "output_type": "execute_result"
    }
   ],
   "source": [
    "2 - df_op"
   ]
  },
  {
   "cell_type": "markdown",
   "id": "united-variable",
   "metadata": {},
   "source": [
    "### Multiplication "
   ]
  },
  {
   "cell_type": "code",
   "execution_count": 335,
   "id": "parallel-discharge",
   "metadata": {},
   "outputs": [
    {
     "data": {
      "text/html": [
       "<table><thead><tr><th></th><th>WEIGHT    </th></tr></thead><tbody><tr><td><strong>0</strong></td><td>       114</td></tr><tr><td><strong>1</strong></td><td>       140</td></tr><tr><td><strong>2</strong></td><td>       108</td></tr><tr><td><strong>3</strong></td><td>       118</td></tr><tr><td><strong>4</strong></td><td>       124</td></tr><tr><td><strong>5</strong></td><td>       140</td></tr></tbody></table>"
      ],
      "text/plain": [
       "<ickle.DataFrame at 0x1dc407e9bb0>"
      ]
     },
     "execution_count": 335,
     "metadata": {},
     "output_type": "execute_result"
    }
   ],
   "source": [
    "df_op * 2"
   ]
  },
  {
   "cell_type": "code",
   "execution_count": 336,
   "id": "cordless-manitoba",
   "metadata": {},
   "outputs": [
    {
     "data": {
      "text/html": [
       "<table><thead><tr><th></th><th>WEIGHT    </th></tr></thead><tbody><tr><td><strong>0</strong></td><td>       114</td></tr><tr><td><strong>1</strong></td><td>       140</td></tr><tr><td><strong>2</strong></td><td>       108</td></tr><tr><td><strong>3</strong></td><td>       118</td></tr><tr><td><strong>4</strong></td><td>       124</td></tr><tr><td><strong>5</strong></td><td>       140</td></tr></tbody></table>"
      ],
      "text/plain": [
       "<ickle.DataFrame at 0x1dc407e9580>"
      ]
     },
     "execution_count": 336,
     "metadata": {},
     "output_type": "execute_result"
    }
   ],
   "source": [
    "2 * df_op"
   ]
  },
  {
   "cell_type": "markdown",
   "id": "precious-lending",
   "metadata": {},
   "source": [
    "### Division "
   ]
  },
  {
   "cell_type": "code",
   "execution_count": 337,
   "id": "friendly-printer",
   "metadata": {},
   "outputs": [
    {
     "data": {
      "text/html": [
       "<table><thead><tr><th></th><th>WEIGHT    </th></tr></thead><tbody><tr><td><strong>0</strong></td><td>    28.500</td></tr><tr><td><strong>1</strong></td><td>    35.000</td></tr><tr><td><strong>2</strong></td><td>    27.000</td></tr><tr><td><strong>3</strong></td><td>    29.500</td></tr><tr><td><strong>4</strong></td><td>    31.000</td></tr><tr><td><strong>5</strong></td><td>    35.000</td></tr></tbody></table>"
      ],
      "text/plain": [
       "<ickle.DataFrame at 0x1dc407e9e20>"
      ]
     },
     "execution_count": 337,
     "metadata": {},
     "output_type": "execute_result"
    }
   ],
   "source": [
    "df_op / 2"
   ]
  },
  {
   "cell_type": "code",
   "execution_count": 338,
   "id": "artistic-grant",
   "metadata": {},
   "outputs": [
    {
     "data": {
      "text/html": [
       "<table><thead><tr><th></th><th>WEIGHT    </th></tr></thead><tbody><tr><td><strong>0</strong></td><td>     0.035</td></tr><tr><td><strong>1</strong></td><td>     0.029</td></tr><tr><td><strong>2</strong></td><td>     0.037</td></tr><tr><td><strong>3</strong></td><td>     0.034</td></tr><tr><td><strong>4</strong></td><td>     0.032</td></tr><tr><td><strong>5</strong></td><td>     0.029</td></tr></tbody></table>"
      ],
      "text/plain": [
       "<ickle.DataFrame at 0x1dc407e9f40>"
      ]
     },
     "execution_count": 338,
     "metadata": {},
     "output_type": "execute_result"
    }
   ],
   "source": [
    "2 / df_op "
   ]
  },
  {
   "cell_type": "markdown",
   "id": "resistant-squad",
   "metadata": {},
   "source": [
    "### Floor Division "
   ]
  },
  {
   "cell_type": "code",
   "execution_count": 339,
   "id": "immediate-locator",
   "metadata": {},
   "outputs": [
    {
     "data": {
      "text/html": [
       "<table><thead><tr><th></th><th>WEIGHT    </th></tr></thead><tbody><tr><td><strong>0</strong></td><td>        28</td></tr><tr><td><strong>1</strong></td><td>        35</td></tr><tr><td><strong>2</strong></td><td>        27</td></tr><tr><td><strong>3</strong></td><td>        29</td></tr><tr><td><strong>4</strong></td><td>        31</td></tr><tr><td><strong>5</strong></td><td>        35</td></tr></tbody></table>"
      ],
      "text/plain": [
       "<ickle.DataFrame at 0x1dc407e99a0>"
      ]
     },
     "execution_count": 339,
     "metadata": {},
     "output_type": "execute_result"
    }
   ],
   "source": [
    "df_op // 2"
   ]
  },
  {
   "cell_type": "code",
   "execution_count": 340,
   "id": "regulation-phoenix",
   "metadata": {},
   "outputs": [
    {
     "data": {
      "text/html": [
       "<table><thead><tr><th></th><th>WEIGHT    </th></tr></thead><tbody><tr><td><strong>0</strong></td><td>         0</td></tr><tr><td><strong>1</strong></td><td>         0</td></tr><tr><td><strong>2</strong></td><td>         0</td></tr><tr><td><strong>3</strong></td><td>         0</td></tr><tr><td><strong>4</strong></td><td>         0</td></tr><tr><td><strong>5</strong></td><td>         0</td></tr></tbody></table>"
      ],
      "text/plain": [
       "<ickle.DataFrame at 0x1dc407ee0a0>"
      ]
     },
     "execution_count": 340,
     "metadata": {},
     "output_type": "execute_result"
    }
   ],
   "source": [
    "2 // df_op"
   ]
  },
  {
   "cell_type": "markdown",
   "id": "cellular-restaurant",
   "metadata": {},
   "source": [
    "### Power "
   ]
  },
  {
   "cell_type": "code",
   "execution_count": 341,
   "id": "compact-judges",
   "metadata": {},
   "outputs": [
    {
     "data": {
      "text/html": [
       "<table><thead><tr><th></th><th>WEIGHT    </th></tr></thead><tbody><tr><td><strong>0</strong></td><td>    185193</td></tr><tr><td><strong>1</strong></td><td>    343000</td></tr><tr><td><strong>2</strong></td><td>    157464</td></tr><tr><td><strong>3</strong></td><td>    205379</td></tr><tr><td><strong>4</strong></td><td>    238328</td></tr><tr><td><strong>5</strong></td><td>    343000</td></tr></tbody></table>"
      ],
      "text/plain": [
       "<ickle.DataFrame at 0x1dc407ee130>"
      ]
     },
     "execution_count": 341,
     "metadata": {},
     "output_type": "execute_result"
    }
   ],
   "source": [
    "df_op ** 3"
   ]
  },
  {
   "cell_type": "code",
   "execution_count": 342,
   "id": "fixed-protocol",
   "metadata": {},
   "outputs": [
    {
     "data": {
      "text/html": [
       "<table><thead><tr><th></th><th>WEIGHT    </th></tr></thead><tbody><tr><td><strong>0</strong></td><td> 886634019</td></tr><tr><td><strong>1</strong></td><td>-102221863</td></tr><tr><td><strong>2</strong></td><td>  32838297</td></tr><tr><td><strong>3</strong></td><td>-610228421</td></tr><tr><td><strong>4</strong></td><td> 703701817</td></tr><tr><td><strong>5</strong></td><td>-102221863</td></tr></tbody></table>"
      ],
      "text/plain": [
       "<ickle.DataFrame at 0x1dc407ee310>"
      ]
     },
     "execution_count": 342,
     "metadata": {},
     "output_type": "execute_result"
    }
   ],
   "source": [
    "3 ** df_op"
   ]
  },
  {
   "cell_type": "markdown",
   "id": "tracked-customer",
   "metadata": {},
   "source": [
    "### Greater than"
   ]
  },
  {
   "cell_type": "code",
   "execution_count": 343,
   "id": "robust-punch",
   "metadata": {},
   "outputs": [
    {
     "data": {
      "text/html": [
       "<table><thead><tr><th></th><th>WEIGHT    </th></tr></thead><tbody><tr><td><strong>0</strong></td><td>True</td></tr><tr><td><strong>1</strong></td><td>True</td></tr><tr><td><strong>2</strong></td><td>True</td></tr><tr><td><strong>3</strong></td><td>True</td></tr><tr><td><strong>4</strong></td><td>True</td></tr><tr><td><strong>5</strong></td><td>True</td></tr></tbody></table>"
      ],
      "text/plain": [
       "<ickle.DataFrame at 0x1dc407ee430>"
      ]
     },
     "execution_count": 343,
     "metadata": {},
     "output_type": "execute_result"
    }
   ],
   "source": [
    "df_op > 50"
   ]
  },
  {
   "cell_type": "markdown",
   "id": "cathedral-geology",
   "metadata": {},
   "source": [
    "### Less than"
   ]
  },
  {
   "cell_type": "code",
   "execution_count": 344,
   "id": "spiritual-satin",
   "metadata": {},
   "outputs": [
    {
     "data": {
      "text/html": [
       "<table><thead><tr><th></th><th>WEIGHT    </th></tr></thead><tbody><tr><td><strong>0</strong></td><td>False</td></tr><tr><td><strong>1</strong></td><td>False</td></tr><tr><td><strong>2</strong></td><td>True</td></tr><tr><td><strong>3</strong></td><td>False</td></tr><tr><td><strong>4</strong></td><td>False</td></tr><tr><td><strong>5</strong></td><td>False</td></tr></tbody></table>"
      ],
      "text/plain": [
       "<ickle.DataFrame at 0x1dc407ee4f0>"
      ]
     },
     "execution_count": 344,
     "metadata": {},
     "output_type": "execute_result"
    }
   ],
   "source": [
    "df_op < 55"
   ]
  },
  {
   "cell_type": "markdown",
   "id": "postal-mineral",
   "metadata": {},
   "source": [
    "### Greater than equal "
   ]
  },
  {
   "cell_type": "code",
   "execution_count": 345,
   "id": "professional-breathing",
   "metadata": {},
   "outputs": [
    {
     "data": {
      "text/html": [
       "<table><thead><tr><th></th><th>WEIGHT    </th></tr></thead><tbody><tr><td><strong>0</strong></td><td>False</td></tr><tr><td><strong>1</strong></td><td>False</td></tr><tr><td><strong>2</strong></td><td>False</td></tr><tr><td><strong>3</strong></td><td>False</td></tr><tr><td><strong>4</strong></td><td>False</td></tr><tr><td><strong>5</strong></td><td>False</td></tr></tbody></table>"
      ],
      "text/plain": [
       "<ickle.DataFrame at 0x1dc407ee5e0>"
      ]
     },
     "execution_count": 345,
     "metadata": {},
     "output_type": "execute_result"
    }
   ],
   "source": [
    "df_op >= 75"
   ]
  },
  {
   "cell_type": "markdown",
   "id": "prescribed-office",
   "metadata": {},
   "source": [
    "### Lesser than equal "
   ]
  },
  {
   "cell_type": "code",
   "execution_count": 346,
   "id": "defined-activity",
   "metadata": {},
   "outputs": [
    {
     "data": {
      "text/html": [
       "<table><thead><tr><th></th><th>WEIGHT    </th></tr></thead><tbody><tr><td><strong>0</strong></td><td>False</td></tr><tr><td><strong>1</strong></td><td>False</td></tr><tr><td><strong>2</strong></td><td>True</td></tr><tr><td><strong>3</strong></td><td>False</td></tr><tr><td><strong>4</strong></td><td>False</td></tr><tr><td><strong>5</strong></td><td>False</td></tr></tbody></table>"
      ],
      "text/plain": [
       "<ickle.DataFrame at 0x1dc407d1cd0>"
      ]
     },
     "execution_count": 346,
     "metadata": {},
     "output_type": "execute_result"
    }
   ],
   "source": [
    "df_op <= 55"
   ]
  },
  {
   "cell_type": "markdown",
   "id": "interpreted-calgary",
   "metadata": {},
   "source": [
    "### Not Equal "
   ]
  },
  {
   "cell_type": "code",
   "execution_count": 347,
   "id": "reasonable-fireplace",
   "metadata": {},
   "outputs": [
    {
     "data": {
      "text/html": [
       "<table><thead><tr><th></th><th>WEIGHT    </th></tr></thead><tbody><tr><td><strong>0</strong></td><td>True</td></tr><tr><td><strong>1</strong></td><td>True</td></tr><tr><td><strong>2</strong></td><td>True</td></tr><tr><td><strong>3</strong></td><td>True</td></tr><tr><td><strong>4</strong></td><td>True</td></tr><tr><td><strong>5</strong></td><td>True</td></tr></tbody></table>"
      ],
      "text/plain": [
       "<ickle.DataFrame at 0x1dc407e9cd0>"
      ]
     },
     "execution_count": 347,
     "metadata": {},
     "output_type": "execute_result"
    }
   ],
   "source": [
    "df_op != 55"
   ]
  },
  {
   "cell_type": "markdown",
   "id": "champion-music",
   "metadata": {},
   "source": [
    "### Equal "
   ]
  },
  {
   "cell_type": "code",
   "execution_count": 348,
   "id": "descending-acceptance",
   "metadata": {},
   "outputs": [
    {
     "data": {
      "text/html": [
       "<table><thead><tr><th></th><th>WEIGHT    </th></tr></thead><tbody><tr><td><strong>0</strong></td><td>False</td></tr><tr><td><strong>1</strong></td><td>True</td></tr><tr><td><strong>2</strong></td><td>False</td></tr><tr><td><strong>3</strong></td><td>False</td></tr><tr><td><strong>4</strong></td><td>False</td></tr><tr><td><strong>5</strong></td><td>True</td></tr></tbody></table>"
      ],
      "text/plain": [
       "<ickle.DataFrame at 0x1dc407d1250>"
      ]
     },
     "execution_count": 348,
     "metadata": {},
     "output_type": "execute_result"
    }
   ],
   "source": [
    "df_op == 70"
   ]
  },
  {
   "cell_type": "markdown",
   "id": "controlling-society",
   "metadata": {},
   "source": [
    "## String Only Methods \n",
    "All the strings behave in the same manner as built-in string functions in Python.\n",
    "These methods can be used only with `columns`\n",
    "\n",
    "1. [capitalize](#capitalize(col))"
   ]
  },
  {
   "cell_type": "markdown",
   "id": "daily-mercury",
   "metadata": {},
   "source": [
    "### capitalize(col)"
   ]
  },
  {
   "cell_type": "code",
   "execution_count": 353,
   "id": "plastic-chamber",
   "metadata": {},
   "outputs": [
    {
     "data": {
      "text/html": [
       "<table><thead><tr><th></th><th>NAME      </th></tr></thead><tbody><tr><td><strong>0</strong></td><td>John      </td></tr><tr><td><strong>1</strong></td><td>Sam       </td></tr><tr><td><strong>2</strong></td><td>Tina      </td></tr><tr><td><strong>3</strong></td><td>Josh      </td></tr><tr><td><strong>4</strong></td><td>Jack      </td></tr><tr><td><strong>5</strong></td><td>Jill      </td></tr></tbody></table>"
      ],
      "text/plain": [
       "<ickle.DataFrame at 0x1dc407d1d90>"
      ]
     },
     "execution_count": 353,
     "metadata": {},
     "output_type": "execute_result"
    }
   ],
   "source": [
    "df.str.capitalize('NAME')"
   ]
  },
  {
   "cell_type": "markdown",
   "id": "concerned-auckland",
   "metadata": {},
   "source": [
    "### center(col, width, fillchar=None)"
   ]
  },
  {
   "cell_type": "code",
   "execution_count": 391,
   "id": "affected-sewing",
   "metadata": {},
   "outputs": [
    {
     "data": {
      "text/html": [
       "<table><thead><tr><th></th><th>NAME      </th></tr></thead><tbody><tr><td><strong>0</strong></td><td>aaaJohnaaa</td></tr><tr><td><strong>1</strong></td><td>aaaSamaaaa</td></tr><tr><td><strong>2</strong></td><td>aaaTinaaaa</td></tr><tr><td><strong>3</strong></td><td>aaaJoshaaa</td></tr><tr><td><strong>4</strong></td><td>aaaJackaaa</td></tr><tr><td><strong>5</strong></td><td>aaaJillaaa</td></tr></tbody></table>"
      ],
      "text/plain": [
       "<ickle.DataFrame at 0x1dc41570460>"
      ]
     },
     "execution_count": 391,
     "metadata": {},
     "output_type": "execute_result"
    }
   ],
   "source": [
    "df.str.center('NAME', 10, 'a')"
   ]
  },
  {
   "cell_type": "markdown",
   "id": "willing-costa",
   "metadata": {},
   "source": [
    "### count(col, sub, start=None, stop=None)"
   ]
  },
  {
   "cell_type": "code",
   "execution_count": 393,
   "id": "composite-fifty",
   "metadata": {},
   "outputs": [
    {
     "data": {
      "text/html": [
       "<table><thead><tr><th></th><th>PLACE     </th></tr></thead><tbody><tr><td><strong>0</strong></td><td>         0</td></tr><tr><td><strong>1</strong></td><td>         1</td></tr><tr><td><strong>2</strong></td><td>         0</td></tr><tr><td><strong>3</strong></td><td>         1</td></tr><tr><td><strong>4</strong></td><td>         1</td></tr><tr><td><strong>5</strong></td><td>         1</td></tr></tbody></table>"
      ],
      "text/plain": [
       "<ickle.DataFrame at 0x1dc407e9f70>"
      ]
     },
     "execution_count": 393,
     "metadata": {},
     "output_type": "execute_result"
    }
   ],
   "source": [
    "df.str.count('PLACE', 'Mumbai')"
   ]
  },
  {
   "cell_type": "markdown",
   "id": "organic-technician",
   "metadata": {},
   "source": [
    "### endswith()"
   ]
  },
  {
   "cell_type": "code",
   "execution_count": 394,
   "id": "filled-venice",
   "metadata": {},
   "outputs": [
    {
     "data": {
      "text/html": [
       "<table><thead><tr><th></th><th>NAME      </th></tr></thead><tbody><tr><td><strong>0</strong></td><td>True</td></tr><tr><td><strong>1</strong></td><td>False</td></tr><tr><td><strong>2</strong></td><td>False</td></tr><tr><td><strong>3</strong></td><td>False</td></tr><tr><td><strong>4</strong></td><td>False</td></tr><tr><td><strong>5</strong></td><td>False</td></tr></tbody></table>"
      ],
      "text/plain": [
       "<ickle.DataFrame at 0x1dc407eedc0>"
      ]
     },
     "execution_count": 394,
     "metadata": {},
     "output_type": "execute_result"
    }
   ],
   "source": [
    "df.str.endswith('NAME', 'n')"
   ]
  },
  {
   "cell_type": "markdown",
   "id": "confused-serbia",
   "metadata": {},
   "source": [
    "### startswith()"
   ]
  },
  {
   "cell_type": "code",
   "execution_count": 395,
   "id": "exciting-extraction",
   "metadata": {},
   "outputs": [
    {
     "data": {
      "text/html": [
       "<table><thead><tr><th></th><th>NAME      </th></tr></thead><tbody><tr><td><strong>0</strong></td><td>True</td></tr><tr><td><strong>1</strong></td><td>False</td></tr><tr><td><strong>2</strong></td><td>False</td></tr><tr><td><strong>3</strong></td><td>True</td></tr><tr><td><strong>4</strong></td><td>True</td></tr><tr><td><strong>5</strong></td><td>True</td></tr></tbody></table>"
      ],
      "text/plain": [
       "<ickle.DataFrame at 0x1dc407eeb50>"
      ]
     },
     "execution_count": 395,
     "metadata": {},
     "output_type": "execute_result"
    }
   ],
   "source": [
    "df.str.startswith('NAME', 'J')"
   ]
  },
  {
   "cell_type": "markdown",
   "id": "pending-mounting",
   "metadata": {},
   "source": [
    "### find()"
   ]
  },
  {
   "cell_type": "code",
   "execution_count": 400,
   "id": "recorded-label",
   "metadata": {},
   "outputs": [
    {
     "data": {
      "text/html": [
       "<table><thead><tr><th></th><th>NAME      </th></tr></thead><tbody><tr><td><strong>0</strong></td><td>        -1</td></tr><tr><td><strong>1</strong></td><td>        -1</td></tr><tr><td><strong>2</strong></td><td>         0</td></tr><tr><td><strong>3</strong></td><td>        -1</td></tr><tr><td><strong>4</strong></td><td>        -1</td></tr><tr><td><strong>5</strong></td><td>        -1</td></tr></tbody></table>"
      ],
      "text/plain": [
       "<ickle.DataFrame at 0x1dc407eea00>"
      ]
     },
     "execution_count": 400,
     "metadata": {},
     "output_type": "execute_result"
    }
   ],
   "source": [
    "df.str.find('NAME', 'Tina')"
   ]
  },
  {
   "cell_type": "markdown",
   "id": "uniform-restaurant",
   "metadata": {},
   "source": [
    "### len()"
   ]
  },
  {
   "cell_type": "code",
   "execution_count": 361,
   "id": "ethical-andorra",
   "metadata": {},
   "outputs": [
    {
     "data": {
      "text/html": [
       "<table><thead><tr><th></th><th>NAME      </th></tr></thead><tbody><tr><td><strong>0</strong></td><td>         4</td></tr><tr><td><strong>1</strong></td><td>         3</td></tr><tr><td><strong>2</strong></td><td>         4</td></tr><tr><td><strong>3</strong></td><td>         4</td></tr><tr><td><strong>4</strong></td><td>         4</td></tr><tr><td><strong>5</strong></td><td>         4</td></tr></tbody></table>"
      ],
      "text/plain": [
       "<ickle.DataFrame at 0x1dc407e9640>"
      ]
     },
     "execution_count": 361,
     "metadata": {},
     "output_type": "execute_result"
    }
   ],
   "source": [
    "df.str.len('NAME')"
   ]
  },
  {
   "cell_type": "markdown",
   "id": "phantom-faculty",
   "metadata": {},
   "source": [
    "### get()"
   ]
  },
  {
   "cell_type": "code",
   "execution_count": 403,
   "id": "incorporated-modification",
   "metadata": {},
   "outputs": [
    {
     "data": {
      "text/html": [
       "<table><thead><tr><th></th><th>NAME      </th></tr></thead><tbody><tr><td><strong>0</strong></td><td>J         </td></tr><tr><td><strong>1</strong></td><td>S         </td></tr><tr><td><strong>2</strong></td><td>T         </td></tr><tr><td><strong>3</strong></td><td>J         </td></tr><tr><td><strong>4</strong></td><td>J         </td></tr><tr><td><strong>5</strong></td><td>J         </td></tr></tbody></table>"
      ],
      "text/plain": [
       "<ickle.DataFrame at 0x1dc41570310>"
      ]
     },
     "execution_count": 403,
     "metadata": {},
     "output_type": "execute_result"
    }
   ],
   "source": [
    "df.str.get('NAME', 0)"
   ]
  },
  {
   "cell_type": "markdown",
   "id": "supported-traffic",
   "metadata": {},
   "source": [
    "### index()"
   ]
  },
  {
   "cell_type": "code",
   "execution_count": null,
   "id": "bored-stick",
   "metadata": {
    "scrolled": true
   },
   "outputs": [],
   "source": []
  },
  {
   "cell_type": "markdown",
   "id": "behavioral-round",
   "metadata": {},
   "source": [
    "### isalnum()"
   ]
  },
  {
   "cell_type": "code",
   "execution_count": 442,
   "id": "hidden-processor",
   "metadata": {},
   "outputs": [
    {
     "data": {
      "text/html": [
       "<table><thead><tr><th></th><th>NAME      </th></tr></thead><tbody><tr><td><strong>0</strong></td><td>True</td></tr><tr><td><strong>1</strong></td><td>True</td></tr><tr><td><strong>2</strong></td><td>True</td></tr><tr><td><strong>3</strong></td><td>True</td></tr><tr><td><strong>4</strong></td><td>True</td></tr><tr><td><strong>5</strong></td><td>True</td></tr></tbody></table>"
      ],
      "text/plain": [
       "<ickle.DataFrame at 0x1dc407bbe80>"
      ]
     },
     "execution_count": 442,
     "metadata": {},
     "output_type": "execute_result"
    }
   ],
   "source": [
    "df.str.isalnum('NAME')"
   ]
  },
  {
   "cell_type": "markdown",
   "id": "active-singer",
   "metadata": {},
   "source": [
    "### isalpha()"
   ]
  },
  {
   "cell_type": "code",
   "execution_count": 439,
   "id": "operating-holocaust",
   "metadata": {},
   "outputs": [
    {
     "data": {
      "text/html": [
       "<table><thead><tr><th></th><th>NAME      </th></tr></thead><tbody><tr><td><strong>0</strong></td><td>True</td></tr><tr><td><strong>1</strong></td><td>True</td></tr><tr><td><strong>2</strong></td><td>True</td></tr><tr><td><strong>3</strong></td><td>True</td></tr><tr><td><strong>4</strong></td><td>True</td></tr><tr><td><strong>5</strong></td><td>True</td></tr></tbody></table>"
      ],
      "text/plain": [
       "<ickle.DataFrame at 0x1dc407bbdc0>"
      ]
     },
     "execution_count": 439,
     "metadata": {},
     "output_type": "execute_result"
    }
   ],
   "source": [
    "df.str.isalpha('NAME')"
   ]
  },
  {
   "cell_type": "markdown",
   "id": "lovely-fluid",
   "metadata": {},
   "source": [
    "### isdecimal()"
   ]
  },
  {
   "cell_type": "code",
   "execution_count": 438,
   "id": "acute-recall",
   "metadata": {},
   "outputs": [
    {
     "data": {
      "text/html": [
       "<table><thead><tr><th></th><th>NAME      </th></tr></thead><tbody><tr><td><strong>0</strong></td><td>False</td></tr><tr><td><strong>1</strong></td><td>False</td></tr><tr><td><strong>2</strong></td><td>False</td></tr><tr><td><strong>3</strong></td><td>False</td></tr><tr><td><strong>4</strong></td><td>False</td></tr><tr><td><strong>5</strong></td><td>False</td></tr></tbody></table>"
      ],
      "text/plain": [
       "<ickle.DataFrame at 0x1dc407c9160>"
      ]
     },
     "execution_count": 438,
     "metadata": {},
     "output_type": "execute_result"
    }
   ],
   "source": [
    "df.str.isdecimal('NAME')"
   ]
  },
  {
   "cell_type": "markdown",
   "id": "north-storage",
   "metadata": {},
   "source": [
    "### isnumeric()"
   ]
  },
  {
   "cell_type": "code",
   "execution_count": 437,
   "id": "quarterly-portfolio",
   "metadata": {},
   "outputs": [
    {
     "data": {
      "text/html": [
       "<table><thead><tr><th></th><th>NAME      </th></tr></thead><tbody><tr><td><strong>0</strong></td><td>False</td></tr><tr><td><strong>1</strong></td><td>False</td></tr><tr><td><strong>2</strong></td><td>False</td></tr><tr><td><strong>3</strong></td><td>False</td></tr><tr><td><strong>4</strong></td><td>False</td></tr><tr><td><strong>5</strong></td><td>False</td></tr></tbody></table>"
      ],
      "text/plain": [
       "<ickle.DataFrame at 0x1dc407c9d60>"
      ]
     },
     "execution_count": 437,
     "metadata": {},
     "output_type": "execute_result"
    }
   ],
   "source": [
    "df.str.isnumeric('NAME')"
   ]
  },
  {
   "cell_type": "markdown",
   "id": "interpreted-reynolds",
   "metadata": {},
   "source": [
    "### isspace()"
   ]
  },
  {
   "cell_type": "code",
   "execution_count": 433,
   "id": "printable-transfer",
   "metadata": {},
   "outputs": [
    {
     "data": {
      "text/html": [
       "<table><thead><tr><th></th><th>NAME      </th></tr></thead><tbody><tr><td><strong>0</strong></td><td>False</td></tr><tr><td><strong>1</strong></td><td>False</td></tr><tr><td><strong>2</strong></td><td>False</td></tr><tr><td><strong>3</strong></td><td>False</td></tr><tr><td><strong>4</strong></td><td>False</td></tr><tr><td><strong>5</strong></td><td>False</td></tr></tbody></table>"
      ],
      "text/plain": [
       "<ickle.DataFrame at 0x1dc41570b20>"
      ]
     },
     "execution_count": 433,
     "metadata": {},
     "output_type": "execute_result"
    }
   ],
   "source": [
    "df.str.isspace('NAME')"
   ]
  },
  {
   "cell_type": "markdown",
   "id": "proof-corporation",
   "metadata": {},
   "source": [
    "### istitle()"
   ]
  },
  {
   "cell_type": "code",
   "execution_count": 432,
   "id": "approved-rugby",
   "metadata": {},
   "outputs": [
    {
     "data": {
      "text/html": [
       "<table><thead><tr><th></th><th>NAME      </th></tr></thead><tbody><tr><td><strong>0</strong></td><td>True</td></tr><tr><td><strong>1</strong></td><td>True</td></tr><tr><td><strong>2</strong></td><td>True</td></tr><tr><td><strong>3</strong></td><td>True</td></tr><tr><td><strong>4</strong></td><td>True</td></tr><tr><td><strong>5</strong></td><td>True</td></tr></tbody></table>"
      ],
      "text/plain": [
       "<ickle.DataFrame at 0x1dc415709a0>"
      ]
     },
     "execution_count": 432,
     "metadata": {},
     "output_type": "execute_result"
    }
   ],
   "source": [
    "df.str.istitle('NAME')"
   ]
  },
  {
   "cell_type": "markdown",
   "id": "chicken-confusion",
   "metadata": {},
   "source": [
    "### lower()"
   ]
  },
  {
   "cell_type": "code",
   "execution_count": 431,
   "id": "minute-minutes",
   "metadata": {},
   "outputs": [
    {
     "data": {
      "text/html": [
       "<table><thead><tr><th></th><th>NAME      </th></tr></thead><tbody><tr><td><strong>0</strong></td><td>False</td></tr><tr><td><strong>1</strong></td><td>False</td></tr><tr><td><strong>2</strong></td><td>False</td></tr><tr><td><strong>3</strong></td><td>False</td></tr><tr><td><strong>4</strong></td><td>False</td></tr><tr><td><strong>5</strong></td><td>False</td></tr></tbody></table>"
      ],
      "text/plain": [
       "<ickle.DataFrame at 0x1dc41570f40>"
      ]
     },
     "execution_count": 431,
     "metadata": {},
     "output_type": "execute_result"
    }
   ],
   "source": [
    "df.str.islower('NAME')"
   ]
  },
  {
   "cell_type": "markdown",
   "id": "greenhouse-justice",
   "metadata": {},
   "source": [
    "### isupper()"
   ]
  },
  {
   "cell_type": "code",
   "execution_count": 430,
   "id": "finished-italic",
   "metadata": {},
   "outputs": [
    {
     "data": {
      "text/html": [
       "<table><thead><tr><th></th><th>NAME      </th></tr></thead><tbody><tr><td><strong>0</strong></td><td>False</td></tr><tr><td><strong>1</strong></td><td>False</td></tr><tr><td><strong>2</strong></td><td>False</td></tr><tr><td><strong>3</strong></td><td>False</td></tr><tr><td><strong>4</strong></td><td>False</td></tr><tr><td><strong>5</strong></td><td>False</td></tr></tbody></table>"
      ],
      "text/plain": [
       "<ickle.DataFrame at 0x1dc407cf4c0>"
      ]
     },
     "execution_count": 430,
     "metadata": {},
     "output_type": "execute_result"
    }
   ],
   "source": [
    "df.str.isupper('NAME')"
   ]
  },
  {
   "cell_type": "code",
   "execution_count": 429,
   "id": "academic-module",
   "metadata": {},
   "outputs": [
    {
     "data": {
      "text/html": [
       "<table><thead><tr><th></th><th>NAME      </th></tr></thead><tbody><tr><td><strong>0</strong></td><td>John      </td></tr><tr><td><strong>1</strong></td><td>Sam       </td></tr><tr><td><strong>2</strong></td><td>Tina      </td></tr><tr><td><strong>3</strong></td><td>Josh      </td></tr><tr><td><strong>4</strong></td><td>Jack      </td></tr><tr><td><strong>5</strong></td><td>Jill      </td></tr></tbody></table>"
      ],
      "text/plain": [
       "<ickle.DataFrame at 0x1dc407eed90>"
      ]
     },
     "execution_count": 429,
     "metadata": {},
     "output_type": "execute_result"
    }
   ],
   "source": [
    "df.str.lstrip('NAME', 'o')"
   ]
  },
  {
   "cell_type": "code",
   "execution_count": 428,
   "id": "recovered-registration",
   "metadata": {},
   "outputs": [
    {
     "data": {
      "text/html": [
       "<table><thead><tr><th></th><th>NAME      </th></tr></thead><tbody><tr><td><strong>0</strong></td><td>John      </td></tr><tr><td><strong>1</strong></td><td>Sam       </td></tr><tr><td><strong>2</strong></td><td>Tina      </td></tr><tr><td><strong>3</strong></td><td>Josh      </td></tr><tr><td><strong>4</strong></td><td>Jack      </td></tr><tr><td><strong>5</strong></td><td>Jill      </td></tr></tbody></table>"
      ],
      "text/plain": [
       "<ickle.DataFrame at 0x1dc407eec70>"
      ]
     },
     "execution_count": 428,
     "metadata": {},
     "output_type": "execute_result"
    }
   ],
   "source": [
    "df.str.rstrip('NAME', 'o')"
   ]
  },
  {
   "cell_type": "code",
   "execution_count": 427,
   "id": "worst-block",
   "metadata": {},
   "outputs": [
    {
     "data": {
      "text/html": [
       "<table><thead><tr><th></th><th>NAME      </th></tr></thead><tbody><tr><td><strong>0</strong></td><td>John      </td></tr><tr><td><strong>1</strong></td><td>Sam       </td></tr><tr><td><strong>2</strong></td><td>Tina      </td></tr><tr><td><strong>3</strong></td><td>Josh      </td></tr><tr><td><strong>4</strong></td><td>Jack      </td></tr><tr><td><strong>5</strong></td><td>Jill      </td></tr></tbody></table>"
      ],
      "text/plain": [
       "<ickle.DataFrame at 0x1dc41571910>"
      ]
     },
     "execution_count": 427,
     "metadata": {},
     "output_type": "execute_result"
    }
   ],
   "source": [
    "df.str.strip('NAME', 'o')"
   ]
  },
  {
   "cell_type": "markdown",
   "id": "little-german",
   "metadata": {},
   "source": [
    "### replace()"
   ]
  },
  {
   "cell_type": "code",
   "execution_count": 424,
   "id": "removed-treat",
   "metadata": {},
   "outputs": [
    {
     "data": {
      "text/html": [
       "<table><thead><tr><th></th><th>NAME      </th></tr></thead><tbody><tr><td><strong>0</strong></td><td>Cena      </td></tr><tr><td><strong>1</strong></td><td>Sam       </td></tr><tr><td><strong>2</strong></td><td>Tina      </td></tr><tr><td><strong>3</strong></td><td>Josh      </td></tr><tr><td><strong>4</strong></td><td>Jack      </td></tr><tr><td><strong>5</strong></td><td>Jill      </td></tr></tbody></table>"
      ],
      "text/plain": [
       "<ickle.DataFrame at 0x1dc41571820>"
      ]
     },
     "execution_count": 424,
     "metadata": {},
     "output_type": "execute_result"
    }
   ],
   "source": [
    "df.str.replace('NAME', 'John', 'Cena')"
   ]
  },
  {
   "cell_type": "markdown",
   "id": "atomic-saint",
   "metadata": {},
   "source": [
    "### swapcase()"
   ]
  },
  {
   "cell_type": "code",
   "execution_count": 423,
   "id": "nutritional-peter",
   "metadata": {},
   "outputs": [
    {
     "data": {
      "text/html": [
       "<table><thead><tr><th></th><th>NAME      </th></tr></thead><tbody><tr><td><strong>0</strong></td><td>jOHN      </td></tr><tr><td><strong>1</strong></td><td>sAM       </td></tr><tr><td><strong>2</strong></td><td>tINA      </td></tr><tr><td><strong>3</strong></td><td>jOSH      </td></tr><tr><td><strong>4</strong></td><td>jACK      </td></tr><tr><td><strong>5</strong></td><td>jILL      </td></tr></tbody></table>"
      ],
      "text/plain": [
       "<ickle.DataFrame at 0x1dc41571520>"
      ]
     },
     "execution_count": 423,
     "metadata": {},
     "output_type": "execute_result"
    }
   ],
   "source": [
    "df.str.swapcase('NAME')"
   ]
  },
  {
   "cell_type": "markdown",
   "id": "egyptian-contact",
   "metadata": {},
   "source": [
    "### title()"
   ]
  },
  {
   "cell_type": "code",
   "execution_count": 422,
   "id": "golden-rough",
   "metadata": {},
   "outputs": [
    {
     "data": {
      "text/html": [
       "<table><thead><tr><th></th><th>NAME      </th></tr></thead><tbody><tr><td><strong>0</strong></td><td>John      </td></tr><tr><td><strong>1</strong></td><td>Sam       </td></tr><tr><td><strong>2</strong></td><td>Tina      </td></tr><tr><td><strong>3</strong></td><td>Josh      </td></tr><tr><td><strong>4</strong></td><td>Jack      </td></tr><tr><td><strong>5</strong></td><td>Jill      </td></tr></tbody></table>"
      ],
      "text/plain": [
       "<ickle.DataFrame at 0x1dc41571490>"
      ]
     },
     "execution_count": 422,
     "metadata": {},
     "output_type": "execute_result"
    }
   ],
   "source": [
    "df.str.title('NAME')"
   ]
  },
  {
   "cell_type": "markdown",
   "id": "broke-employee",
   "metadata": {},
   "source": [
    "### lower()"
   ]
  },
  {
   "cell_type": "code",
   "execution_count": 421,
   "id": "atomic-spice",
   "metadata": {},
   "outputs": [
    {
     "data": {
      "text/html": [
       "<table><thead><tr><th></th><th>NAME      </th></tr></thead><tbody><tr><td><strong>0</strong></td><td>john      </td></tr><tr><td><strong>1</strong></td><td>sam       </td></tr><tr><td><strong>2</strong></td><td>tina      </td></tr><tr><td><strong>3</strong></td><td>josh      </td></tr><tr><td><strong>4</strong></td><td>jack      </td></tr><tr><td><strong>5</strong></td><td>jill      </td></tr></tbody></table>"
      ],
      "text/plain": [
       "<ickle.DataFrame at 0x1dc415711f0>"
      ]
     },
     "execution_count": 421,
     "metadata": {},
     "output_type": "execute_result"
    }
   ],
   "source": [
    "df.str.lower('NAME')"
   ]
  },
  {
   "cell_type": "markdown",
   "id": "accredited-filling",
   "metadata": {},
   "source": [
    "### upper()"
   ]
  },
  {
   "cell_type": "code",
   "execution_count": 420,
   "id": "western-sally",
   "metadata": {},
   "outputs": [
    {
     "data": {
      "text/html": [
       "<table><thead><tr><th></th><th>NAME      </th></tr></thead><tbody><tr><td><strong>0</strong></td><td>JOHN      </td></tr><tr><td><strong>1</strong></td><td>SAM       </td></tr><tr><td><strong>2</strong></td><td>TINA      </td></tr><tr><td><strong>3</strong></td><td>JOSH      </td></tr><tr><td><strong>4</strong></td><td>JACK      </td></tr><tr><td><strong>5</strong></td><td>JILL      </td></tr></tbody></table>"
      ],
      "text/plain": [
       "<ickle.DataFrame at 0x1dc415711c0>"
      ]
     },
     "execution_count": 420,
     "metadata": {},
     "output_type": "execute_result"
    }
   ],
   "source": [
    "df.str.upper('NAME')"
   ]
  },
  {
   "cell_type": "markdown",
   "id": "historical-probability",
   "metadata": {},
   "source": [
    "### zfill()"
   ]
  },
  {
   "cell_type": "code",
   "execution_count": 417,
   "id": "sunrise-shade",
   "metadata": {},
   "outputs": [
    {
     "data": {
      "text/html": [
       "<table><thead><tr><th></th><th>NAME      </th></tr></thead><tbody><tr><td><strong>0</strong></td><td>000000John</td></tr><tr><td><strong>1</strong></td><td>0000000Sam</td></tr><tr><td><strong>2</strong></td><td>000000Tina</td></tr><tr><td><strong>3</strong></td><td>000000Josh</td></tr><tr><td><strong>4</strong></td><td>000000Jack</td></tr><tr><td><strong>5</strong></td><td>000000Jill</td></tr></tbody></table>"
      ],
      "text/plain": [
       "<ickle.DataFrame at 0x1dc41570dc0>"
      ]
     },
     "execution_count": 417,
     "metadata": {},
     "output_type": "execute_result"
    }
   ],
   "source": [
    "df.str.zfill('NAME', 10)"
   ]
  },
  {
   "cell_type": "markdown",
   "id": "imperial-mobile",
   "metadata": {},
   "source": [
    "### encode()"
   ]
  },
  {
   "cell_type": "code",
   "execution_count": 415,
   "id": "accessible-bradford",
   "metadata": {},
   "outputs": [
    {
     "data": {
      "text/html": [
       "<table><thead><tr><th></th><th>NAME      </th></tr></thead><tbody><tr><td><strong>0</strong></td><td>b'John'   </td></tr><tr><td><strong>1</strong></td><td>b'Sam'    </td></tr><tr><td><strong>2</strong></td><td>b'Tina'   </td></tr><tr><td><strong>3</strong></td><td>b'Josh'   </td></tr><tr><td><strong>4</strong></td><td>b'Jack'   </td></tr><tr><td><strong>5</strong></td><td>b'Jill'   </td></tr></tbody></table>"
      ],
      "text/plain": [
       "<ickle.DataFrame at 0x1dc41570cd0>"
      ]
     },
     "execution_count": 415,
     "metadata": {},
     "output_type": "execute_result"
    }
   ],
   "source": [
    "df.str.encode('NAME')"
   ]
  },
  {
   "cell_type": "markdown",
   "id": "adjusted-indie",
   "metadata": {},
   "source": [
    "## Pivot Table\n",
    "Creates a pivot table from one or two 'grouping' columns\n",
    "\n",
    "Parameters\n",
    "\n",
    "`rows`: str of column name to group by (Optional)\n",
    "\n",
    "`columns`: str of column name to group by (Optional)\n",
    "\n",
    "`values`: str of column name to aggregate (Required)\n",
    "\n",
    "`aggfunc`: str of aggregation function"
   ]
  },
  {
   "cell_type": "code",
   "execution_count": 349,
   "id": "complimentary-space",
   "metadata": {},
   "outputs": [
    {
     "data": {
      "text/html": [
       "<table><thead><tr><th></th><th>NAME      </th><th>Delhi     </th><th>Kolkata   </th><th>Mumbai    </th></tr></thead><tbody><tr><td><strong>0</strong></td><td>Jack      </td><td>       nan</td><td>       nan</td><td>    62.000</td></tr><tr><td><strong>1</strong></td><td>Jill      </td><td>       nan</td><td>       nan</td><td>    70.000</td></tr><tr><td><strong>2</strong></td><td>John      </td><td>       nan</td><td>    57.000</td><td>       nan</td></tr><tr><td><strong>3</strong></td><td>Josh      </td><td>       nan</td><td>       nan</td><td>    59.000</td></tr><tr><td><strong>4</strong></td><td>Sam       </td><td>       nan</td><td>       nan</td><td>    70.000</td></tr><tr><td><strong>5</strong></td><td>Tina      </td><td>    54.000</td><td>       nan</td><td>       nan</td></tr></tbody></table>"
      ],
      "text/plain": [
       "<ickle.DataFrame at 0x1dc407cfa00>"
      ]
     },
     "execution_count": 349,
     "metadata": {},
     "output_type": "execute_result"
    }
   ],
   "source": [
    "df.pivot_table(rows='NAME', columns='PLACE', values='WEIGHT', aggfunc='mean')"
   ]
  },
  {
   "cell_type": "markdown",
   "id": "307d809e",
   "metadata": {},
   "source": [
    "## Read CSV\n",
    "\n",
    "read_csv(file: string of file location)"
   ]
  },
  {
   "cell_type": "code",
   "execution_count": 385,
   "id": "01015cbe",
   "metadata": {},
   "outputs": [
    {
     "data": {
      "text/html": [
       "<table><thead><tr><th></th><th>dept      </th><th>race      </th><th>gender    </th><th>salary    </th></tr></thead><tbody><tr><td><strong>0</strong></td><td>Houston Police Department-HPD</td><td>White     </td><td>Male      </td><td>     45279</td></tr><tr><td><strong>1</strong></td><td>Houston Fire Department (HFD)</td><td>White     </td><td>Male      </td><td>     63166</td></tr><tr><td><strong>2</strong></td><td>Houston Police Department-HPD</td><td>Black     </td><td>Male      </td><td>     66614</td></tr><tr><td><strong>3</strong></td><td>Public Works & Engineering-PWE</td><td>Asian     </td><td>Male      </td><td>     71680</td></tr><tr><td><strong>4</strong></td><td>Houston Airport System (HAS)</td><td>White     </td><td>Male      </td><td>     42390</td></tr></tbody></table>"
      ],
      "text/plain": [
       "<ickle.DataFrame at 0x1dc407cf2b0>"
      ]
     },
     "execution_count": 385,
     "metadata": {},
     "output_type": "execute_result"
    }
   ],
   "source": [
    "data = ick.read_csv('./dataset/employee.csv');\n",
    "data.head()"
   ]
  }
 ],
 "metadata": {
  "kernelspec": {
   "display_name": "Python 3",
   "language": "python",
   "name": "python3"
  },
  "language_info": {
   "codemirror_mode": {
    "name": "ipython",
    "version": 3
   },
   "file_extension": ".py",
   "mimetype": "text/x-python",
   "name": "python",
   "nbconvert_exporter": "python",
   "pygments_lexer": "ipython3",
   "version": "3.9.1"
  }
 },
 "nbformat": 4,
 "nbformat_minor": 5
}
